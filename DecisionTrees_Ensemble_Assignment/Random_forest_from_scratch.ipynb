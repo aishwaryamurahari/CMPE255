{
  "nbformat": 4,
  "nbformat_minor": 0,
  "metadata": {
    "colab": {
      "provenance": []
    },
    "kernelspec": {
      "name": "python3",
      "display_name": "Python 3"
    },
    "language_info": {
      "name": "python"
    }
  },
  "cells": [
    {
      "cell_type": "markdown",
      "source": [
        "Random Forest is a popular ensemble learning method used for classification, regression, and other tasks. It combines the predictions of multiple decision trees to achieve greater accuracy and robustness compared to a single decision tree."
      ],
      "metadata": {
        "id": "diLzy6lS8rI2"
      }
    },
    {
      "cell_type": "markdown",
      "source": [
        "1. Model Definition\n",
        "2. Training and testing on Diabetes Dataset\n",
        "3. Metrics"
      ],
      "metadata": {
        "id": "9wYwJ-bs7Qdh"
      }
    },
    {
      "cell_type": "markdown",
      "source": [
        "## Importing Libraries"
      ],
      "metadata": {
        "id": "uk0HBYmT9Abw"
      }
    },
    {
      "cell_type": "code",
      "execution_count": 3,
      "metadata": {
        "id": "IvbcAqx662q1"
      },
      "outputs": [],
      "source": [
        "import numpy as np\n",
        "\n",
        "from sklearn import datasets\n",
        "from sklearn.model_selection import train_test_split\n",
        "from sklearn.metrics import precision_score, recall_score, f1_score\n",
        "\n",
        "import pandas as pd\n",
        "\n",
        "from collections import Counter\n",
        "from decision_tree import DecisionTree"
      ]
    },
    {
      "cell_type": "markdown",
      "source": [
        "## Model Definition\n",
        "\n",
        "Using previously written Decision tree"
      ],
      "metadata": {
        "id": "bisePNYr7VoZ"
      }
    },
    {
      "cell_type": "markdown",
      "source": [
        "## Bootstrap Sampling\n",
        "\n",
        "Creates a random sample of data with replacement (bootstrap sample) for training each decision tree.\n",
        "\n",
        "## Most Common Label\n",
        "\n",
        "Determines the most frequent label in an array (used for majority voting in classification)."
      ],
      "metadata": {
        "id": "UhqXrRws9GIX"
      }
    },
    {
      "cell_type": "code",
      "source": [
        "def bootstrap_sample(X, y):\n",
        "    n_samples = X.shape[0]\n",
        "    idxs = np.random.choice(n_samples, n_samples, replace=True)\n",
        "    return X[idxs], y[idxs]\n",
        "\n",
        "\n",
        "def most_common_label(y):\n",
        "    counter = Counter(y)\n",
        "    most_common = counter.most_common(1)[0][0]\n",
        "    return most_common"
      ],
      "metadata": {
        "id": "vgeGTMML7YxC"
      },
      "execution_count": 4,
      "outputs": []
    },
    {
      "cell_type": "code",
      "source": [
        "class RandomForest:\n",
        "\n",
        "    def __init__(self, n_trees=10, min_samples_split=2,\n",
        "                 max_depth=100, n_feats=None):\n",
        "        self.n_trees = n_trees\n",
        "        self.min_samples_split = min_samples_split\n",
        "        self.max_depth = max_depth\n",
        "        self.n_feats = n_feats\n",
        "        self.trees = []\n",
        "\n",
        "    def fit(self, X, y):\n",
        "        self.trees = []\n",
        "        for _ in range(self.n_trees):\n",
        "            tree = DecisionTree(min_samples_split=self.min_samples_split,\n",
        "                                max_depth=self.max_depth, n_feats=self.n_feats)\n",
        "            X_samp, y_samp = bootstrap_sample(X, y)\n",
        "            tree.fit(X_samp, y_samp)\n",
        "            self.trees.append(tree)\n",
        "\n",
        "    def predict(self, X):\n",
        "        tree_preds = np.array([tree.predict(X) for tree in self.trees])\n",
        "        tree_preds = np.swapaxes(tree_preds, 0, 1)\n",
        "        y_pred = [most_common_label(tree_pred) for tree_pred in tree_preds]\n",
        "        return np.array(y_pred)"
      ],
      "metadata": {
        "id": "dUPZZdPf7aYC"
      },
      "execution_count": 5,
      "outputs": []
    },
    {
      "cell_type": "markdown",
      "source": [
        "For each tree:\n",
        "* Create a bootstrap sample of the data.\n",
        "* Train a DecisionTree on the sample.\n",
        "* Append the trained tree to self.trees."
      ],
      "metadata": {
        "id": "E6XQ2T_U9aLh"
      }
    },
    {
      "cell_type": "code",
      "source": [
        "def accuracy(y_true, y_pred):\n",
        "    accuracy = np.sum(y_true == y_pred) / len(y_true)\n",
        "    return accuracy"
      ],
      "metadata": {
        "id": "9JMH0aWA7bv_"
      },
      "execution_count": 6,
      "outputs": []
    },
    {
      "cell_type": "markdown",
      "source": [
        "Computes the proportion of correct predictions out of the total predictions."
      ],
      "metadata": {
        "id": "mAgg_0oc9gT6"
      }
    },
    {
      "cell_type": "markdown",
      "source": [
        "## Training and testing on Diabetes Dataset"
      ],
      "metadata": {
        "id": "z94ZkIik7dSB"
      }
    },
    {
      "cell_type": "code",
      "source": [
        "cols = [\"Pregnancies\", \"Glucose\", \"BloodPressure\", \"SkinThickness\",\n",
        "        \"Insulin\", \"BMI\", \"DiabetesPedigreeFunction\", \"Age\", \"Outcome\"]\n",
        "url = \"https://gist.githubusercontent.com/ktisha/c21e73a1bd1700294ef790c56c8aec1f/raw/819b69b5736821ccee93d05b51de0510bea00294/pima-indians-diabetes.csv\"\n",
        "diabetes_data = pd.read_csv(url, skiprows=9, header=None, names=cols)"
      ],
      "metadata": {
        "id": "RVbpy-HC7fT6"
      },
      "execution_count": 7,
      "outputs": []
    },
    {
      "cell_type": "markdown",
      "source": [
        "Loads the Pima Indians Diabetes dataset for training and evaluation."
      ],
      "metadata": {
        "id": "6Et8Uujh9jj1"
      }
    },
    {
      "cell_type": "code",
      "source": [
        "diabetes_data.shape\n"
      ],
      "metadata": {
        "colab": {
          "base_uri": "https://localhost:8080/"
        },
        "id": "_9uzUPiS7gxA",
        "outputId": "6dfc9ef2-1f82-4ac5-9548-2f9fd47dc894"
      },
      "execution_count": 8,
      "outputs": [
        {
          "output_type": "execute_result",
          "data": {
            "text/plain": [
              "(768, 9)"
            ]
          },
          "metadata": {},
          "execution_count": 8
        }
      ]
    },
    {
      "cell_type": "code",
      "source": [
        "X = diabetes_data[cols[:-1]].values\n",
        "y = diabetes_data[cols[-1]].values"
      ],
      "metadata": {
        "id": "le4ihiPI7iEv"
      },
      "execution_count": 9,
      "outputs": []
    },
    {
      "cell_type": "code",
      "source": [
        "X_train, X_test, y_train, y_test = train_test_split(X, y, test_size=0.1, stratify=y, random_state=42)\n"
      ],
      "metadata": {
        "id": "X1FkBLYq7jLV"
      },
      "execution_count": 10,
      "outputs": []
    },
    {
      "cell_type": "markdown",
      "source": [
        "Splits the dataset into training and test sets."
      ],
      "metadata": {
        "id": "ZaGlPu_X9nKy"
      }
    },
    {
      "cell_type": "code",
      "source": [
        "rnd_clf = RandomForest(max_depth=10, n_trees=10, n_feats=6)\n",
        "rnd_clf.fit(X_train, y_train)\n",
        "y_pred = rnd_clf.predict(X_test)"
      ],
      "metadata": {
        "id": "1FEXs5s37kgx"
      },
      "execution_count": 11,
      "outputs": []
    },
    {
      "cell_type": "markdown",
      "source": [
        "* Initialize a RandomForest classifier with 10 trees and a maximum depth of 10.\n",
        "* Train the classifier on the training data.\n",
        "* Predict labels for the test data.\n",
        "* Compute and print the accuracy of the predictions."
      ],
      "metadata": {
        "id": "njvkeOMn9qjr"
      }
    },
    {
      "cell_type": "markdown",
      "source": [
        "## Metrics"
      ],
      "metadata": {
        "id": "8eI-8-9a7ot9"
      }
    },
    {
      "cell_type": "code",
      "source": [
        "print(f\"Accuracy: {accuracy(y_test, y_pred)}\")\n"
      ],
      "metadata": {
        "colab": {
          "base_uri": "https://localhost:8080/"
        },
        "id": "whhsAgsm7l3J",
        "outputId": "0511ce60-d80e-4257-c5b3-2e5ecd297120"
      },
      "execution_count": 12,
      "outputs": [
        {
          "output_type": "stream",
          "name": "stdout",
          "text": [
            "Accuracy: 0.7662337662337663\n"
          ]
        }
      ]
    },
    {
      "cell_type": "code",
      "source": [
        "print(f\"Precision: {precision_score(y_test, y_pred)}\")\n",
        "print(f\"Recall: {recall_score(y_test, y_pred)}\")\n",
        "print(f\"F1-Score: {f1_score(y_test, y_pred)}\")"
      ],
      "metadata": {
        "colab": {
          "base_uri": "https://localhost:8080/"
        },
        "id": "lZBHmvgO7nef",
        "outputId": "6589f4e9-ad6e-4afa-d359-f2ffb28bf9a2"
      },
      "execution_count": 13,
      "outputs": [
        {
          "output_type": "stream",
          "name": "stdout",
          "text": [
            "Precision: 0.6451612903225806\n",
            "Recall: 0.7407407407407407\n",
            "F1-Score: 0.6896551724137931\n"
          ]
        }
      ]
    }
  ]
}