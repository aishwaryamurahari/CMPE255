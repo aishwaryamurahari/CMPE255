{
  "nbformat": 4,
  "nbformat_minor": 0,
  "metadata": {
    "colab": {
      "provenance": []
    },
    "kernelspec": {
      "name": "python3",
      "display_name": "Python 3"
    },
    "language_info": {
      "name": "python"
    }
  },
  "cells": [
    {
      "cell_type": "markdown",
      "source": [
        "Gradient Boost Ranking is a machine learning technique designed for ranking tasks, where the objective is to predict the relative order of items rather than their exact values. It is commonly used in scenarios such as:\n",
        "\n",
        "Search Engines: Ranking search results.\n",
        "Recommender Systems: Ranking items based on user preferences.\n",
        "Ad Placement: Ranking ads based on relevance.\n",
        "This technique uses pairwise or listwise ranking approaches:\n",
        "\n",
        "Pairwise: Compares pairs of items and minimizes errors in their relative order.\n",
        "Listwise: Considers the entire list of items and optimizes metrics like NDCG (Normalized Discounted Cumulative Gain)."
      ],
      "metadata": {
        "id": "RG6TuMeRREuw"
      }
    },
    {
      "cell_type": "markdown",
      "source": [
        "Step 1: Setup and Import Libraries\n"
      ],
      "metadata": {
        "id": "ugsTG0SPRIcK"
      }
    },
    {
      "cell_type": "code",
      "execution_count": 1,
      "metadata": {
        "colab": {
          "base_uri": "https://localhost:8080/"
        },
        "id": "FpMLqIilRA59",
        "outputId": "60f1e905-8116-43e7-f3ab-0b37a7b30924"
      },
      "outputs": [
        {
          "output_type": "stream",
          "name": "stdout",
          "text": [
            "\u001b[2K   \u001b[90m━━━━━━━━━━━━━━━━━━━━━━━━━━━━━━━━━━━━━━━━\u001b[0m \u001b[32m98.7/98.7 MB\u001b[0m \u001b[31m9.2 MB/s\u001b[0m eta \u001b[36m0:00:00\u001b[0m\n",
            "\u001b[?25h"
          ]
        },
        {
          "output_type": "stream",
          "name": "stderr",
          "text": [
            "/usr/local/lib/python3.10/dist-packages/dask/dataframe/__init__.py:42: FutureWarning: \n",
            "Dask dataframe query planning is disabled because dask-expr is not installed.\n",
            "\n",
            "You can install it with `pip install dask[dataframe]` or `conda install dask`.\n",
            "This will raise in a future version.\n",
            "\n",
            "  warnings.warn(msg, FutureWarning)\n"
          ]
        }
      ],
      "source": [
        "# Install necessary libraries\n",
        "!pip install xgboost lightgbm catboost -q\n",
        "\n",
        "# Import libraries\n",
        "import numpy as np\n",
        "import pandas as pd\n",
        "import matplotlib.pyplot as plt\n",
        "from sklearn.datasets import make_classification\n",
        "from sklearn.model_selection import train_test_split\n",
        "from sklearn.metrics import ndcg_score\n",
        "import xgboost as xgb\n",
        "import lightgbm as lgb\n",
        "from catboost import CatBoostRanker\n"
      ]
    },
    {
      "cell_type": "markdown",
      "source": [
        "Step 2: Create a Ranking Dataset\n",
        "\n",
        "* Simulated using make_classification, with relevance scores derived from class probabilities.\n",
        "* Grouping ensures items belong to different groups, simulating ranking problems like search results or recommendations.\n"
      ],
      "metadata": {
        "id": "bR6GRlCZRMgR"
      }
    },
    {
      "cell_type": "code",
      "source": [
        "# Simulate a ranking dataset\n",
        "# For simplicity, we use a classification dataset and treat probabilities as relevance scores\n",
        "X, y = make_classification(\n",
        "    n_samples=1000, n_features=10, n_informative=5, n_classes=3, random_state=42\n",
        ")\n",
        "\n",
        "# Grouping for ranking (e.g., 10 items per group)\n",
        "groups = np.repeat(10, len(y) // 10)  # Assume 10 items per group\n",
        "group_ids = np.arange(len(groups)).repeat(groups)  # Group IDs for each sample\n",
        "\n",
        "# Split into train and test\n",
        "X_train, X_test, y_train, y_test, group_train, group_test = train_test_split(\n",
        "    X, y, group_ids, test_size=0.3, random_state=42\n",
        ")\n"
      ],
      "metadata": {
        "id": "yAAZx_WkRN8l"
      },
      "execution_count": 2,
      "outputs": []
    },
    {
      "cell_type": "markdown",
      "source": [
        "Step 3: XGBoost Ranking\n",
        "* Uses the rank:pairwise objective to optimize pairwise ranking errors.\n",
        "* Outputs NDCG score to evaluate ranking quality."
      ],
      "metadata": {
        "id": "mJQjscNBRQMy"
      }
    },
    {
      "cell_type": "code",
      "source": [
        "# Prepare the data for XGBoost\n",
        "dtrain = xgb.DMatrix(X_train, label=y_train)\n",
        "dtest = xgb.DMatrix(X_test, label=y_test)\n",
        "\n",
        "# Train XGBoost Ranker\n",
        "xgb_params = {\n",
        "    \"objective\": \"rank:pairwise\",\n",
        "    \"eval_metric\": \"ndcg\",\n",
        "    \"learning_rate\": 0.1,\n",
        "    \"max_depth\": 3,\n",
        "    \"random_state\": 42,\n",
        "}\n",
        "xgb_model = xgb.train(xgb_params, dtrain, num_boost_round=100)\n",
        "\n",
        "# Predictions and evaluation\n",
        "y_pred_xgb = xgb_model.predict(dtest)\n",
        "ndcg_xgb = ndcg_score([y_test], [y_pred_xgb])\n",
        "print(f\"XGBoost NDCG Score: {ndcg_xgb:.2f}\")\n"
      ],
      "metadata": {
        "colab": {
          "base_uri": "https://localhost:8080/"
        },
        "id": "GnbZvT8tRQkC",
        "outputId": "c29eff71-c906-498c-ddb2-35e37c4b1d77"
      },
      "execution_count": 3,
      "outputs": [
        {
          "output_type": "stream",
          "name": "stdout",
          "text": [
            "XGBoost NDCG Score: 0.95\n"
          ]
        }
      ]
    },
    {
      "cell_type": "markdown",
      "source": [
        "Step 4: LightGBM Ranking\n",
        "* Uses lambdarank for ranking tasks, optimizing listwise ranking metrics like NDCG.\n",
        "* Handles grouping information efficiently."
      ],
      "metadata": {
        "id": "bTJdYC1nRUJP"
      }
    },
    {
      "cell_type": "markdown",
      "source": [
        "Step 1: Generate Correct Groups"
      ],
      "metadata": {
        "id": "Tf9XQvO6SkLY"
      }
    },
    {
      "cell_type": "code",
      "source": [
        "# Adjust the groups to match the dataset size\n",
        "# Assuming 10 items per group\n",
        "group_train = [10] * (len(X_train) // 10)  # Groups of 10 items\n",
        "group_test = [10] * (len(X_test) // 10)    # Groups of 10 items\n",
        "\n",
        "# Handle leftover rows\n",
        "remainder_train = len(X_train) % 10\n",
        "remainder_test = len(X_test) % 10\n",
        "\n",
        "if remainder_train > 0:\n",
        "    group_train.append(remainder_train)\n",
        "\n",
        "if remainder_test > 0:\n",
        "    group_test.append(remainder_test)\n"
      ],
      "metadata": {
        "id": "gxLJUZs_SZVY"
      },
      "execution_count": 11,
      "outputs": []
    },
    {
      "cell_type": "markdown",
      "source": [
        "Step 2: Prepare LightGBM Dataset\n"
      ],
      "metadata": {
        "id": "ccOntQV9ShMp"
      }
    },
    {
      "cell_type": "code",
      "source": [
        "# Create LightGBM dataset\n",
        "lgb_train = lgb.Dataset(X_train, label=y_train, group=group_train)\n",
        "lgb_test = lgb.Dataset(X_test, label=y_test, group=group_test, reference=lgb_train)\n"
      ],
      "metadata": {
        "id": "x8GDkuq7SbJa"
      },
      "execution_count": 12,
      "outputs": []
    },
    {
      "cell_type": "markdown",
      "source": [
        "Step 3: Train LightGBM Ranker"
      ],
      "metadata": {
        "id": "T9NJqamsSfnE"
      }
    },
    {
      "cell_type": "code",
      "source": [
        "# Train LightGBM Ranker\n",
        "lgb_params = {\n",
        "    \"objective\": \"lambdarank\",\n",
        "    \"metric\": \"ndcg\",\n",
        "    \"learning_rate\": 0.1,\n",
        "    \"max_depth\": -1,\n",
        "    \"random_state\": 42,\n",
        "    \"verbosity\": -1\n",
        "}\n",
        "\n",
        "lgb_model = lgb.train(\n",
        "    params=lgb_params,\n",
        "    train_set=lgb_train,\n",
        "    num_boost_round=100,\n",
        "    valid_sets=[lgb_test]\n",
        ")\n",
        "\n",
        "# Predictions and evaluation\n",
        "y_pred_lgb = lgb_model.predict(X_test)\n",
        "ndcg_lgb = ndcg_score([y_test], [y_pred_lgb])\n",
        "print(f\"LightGBM NDCG Score: {ndcg_lgb:.2f}\")\n"
      ],
      "metadata": {
        "colab": {
          "base_uri": "https://localhost:8080/"
        },
        "id": "jVITRKwCRT5I",
        "outputId": "975073a1-5e70-4985-d9c8-3d729a4cd516"
      },
      "execution_count": 13,
      "outputs": [
        {
          "output_type": "stream",
          "name": "stdout",
          "text": [
            "LightGBM NDCG Score: 0.99\n"
          ]
        }
      ]
    },
    {
      "cell_type": "markdown",
      "source": [
        "Step 5: CatBoost Ranking\n",
        "\n",
        "* A dedicated ranker that uses group information for ranking tasks.\n",
        "* Requires minimal preprocessing and works well out of the box."
      ],
      "metadata": {
        "id": "Zawi9fzWRXSb"
      }
    },
    {
      "cell_type": "code",
      "source": [
        "# Generate group_id array for CatBoost\n",
        "n_groups = len(X_train) // 10  # Number of groups (10 items per group)\n",
        "group_id = np.repeat(np.arange(n_groups), 10)\n",
        "\n",
        "# Handle remaining rows\n",
        "remainder = len(X_train) % 10\n",
        "if remainder > 0:\n",
        "    group_id = np.append(group_id, [n_groups] * remainder)\n",
        "\n",
        "print(f\"Length of group_id: {len(group_id)}, Length of X_train: {len(X_train)}\")\n",
        "\n",
        "assert len(group_id) == len(X_train), \"Mismatch between group_id and X_train length\"\n",
        "\n",
        "\n",
        "cat_model = CatBoostRanker(iterations=100, learning_rate=0.1, depth=6, verbose=0, random_seed=42)\n",
        "\n",
        "# Train the CatBoost model\n",
        "cat_model.fit(X_train, y_train, group_id=group_id)\n",
        "\n",
        "# Predictions and evaluation\n",
        "y_pred_cat = cat_model.predict(X_test)\n",
        "ndcg_cat = ndcg_score([y_test], [y_pred_cat])\n",
        "print(f\"CatBoost NDCG Score: {ndcg_cat:.2f}\")\n"
      ],
      "metadata": {
        "colab": {
          "base_uri": "https://localhost:8080/"
        },
        "id": "ahVh7EV7RYgE",
        "outputId": "87e30752-aa8a-4927-ced6-811b1c8af4e4"
      },
      "execution_count": 15,
      "outputs": [
        {
          "output_type": "stream",
          "name": "stdout",
          "text": [
            "Length of group_id: 700, Length of X_train: 700\n",
            "CatBoost NDCG Score: 0.99\n"
          ]
        }
      ]
    },
    {
      "cell_type": "markdown",
      "source": [
        "Step 6: Visualize Results"
      ],
      "metadata": {
        "id": "G600HqJGRaM1"
      }
    },
    {
      "cell_type": "markdown",
      "source": [
        "* A popular metric for ranking, measuring the quality of the predicted ranking against the true relevance scores.\n",
        "* Bar plot compares NDCG scores across models, showing their relative performance."
      ],
      "metadata": {
        "id": "lA-2uz3uS979"
      }
    },
    {
      "cell_type": "code",
      "source": [
        "# Bar plot for NDCG scores\n",
        "ndcg_scores = [ndcg_xgb, ndcg_lgb, ndcg_cat]\n",
        "models = [\"XGBoost\", \"LightGBM\", \"CatBoost\"]\n",
        "\n",
        "plt.figure(figsize=(8, 6))\n",
        "plt.bar(models, ndcg_scores, color=[\"blue\", \"green\", \"orange\"])\n",
        "plt.title(\"NDCG Scores Comparison\")\n",
        "plt.ylabel(\"NDCG Score\")\n",
        "plt.ylim(0, 1)\n",
        "plt.grid(axis='y')\n",
        "plt.show()\n"
      ],
      "metadata": {
        "colab": {
          "base_uri": "https://localhost:8080/",
          "height": 545
        },
        "id": "ZkPqOfEsRah6",
        "outputId": "bc52411a-d38e-4e5c-8313-f7094517cffa"
      },
      "execution_count": 16,
      "outputs": [
        {
          "output_type": "display_data",
          "data": {
            "text/plain": [
              "<Figure size 800x600 with 1 Axes>"
            ],
            "image/png": "[encoded data removed]"
          },
          "metadata": {}
        }
      ]
    }
  ]
}