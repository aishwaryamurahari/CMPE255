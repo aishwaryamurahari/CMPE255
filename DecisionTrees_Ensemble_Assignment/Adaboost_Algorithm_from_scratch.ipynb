{
  "nbformat": 4,
  "nbformat_minor": 0,
  "metadata": {
    "colab": {
      "provenance": []
    },
    "kernelspec": {
      "name": "python3",
      "display_name": "Python 3"
    },
    "language_info": {
      "name": "python"
    }
  },
  "cells": [
    {
      "cell_type": "markdown",
      "source": [
        "\n",
        "AdaBoost (Adaptive Boosting) is a popular ensemble learning algorithm that combines multiple weak classifiers (e.g., decision stumps) to create a strong classifier. It focuses on the samples that are difficult to classify, adapting to their challenges during each iteration of boosting."
      ],
      "metadata": {
        "id": "ZtjoLSm6_zRO"
      }
    },
    {
      "cell_type": "markdown",
      "source": [
        "Advantages\n",
        "* Simple and Effective: Easy to implement and often improves performance over standalone classifiers.\n",
        "* No Hyperparameter Tuning: Requires minimal tuning compared to other boosting algorithms.\n",
        "* Handles Complex Data: Works well with a variety of data types and feature sets.\n",
        "* Focus on Hard Examples: Boosts the importance of misclassified samples."
      ],
      "metadata": {
        "id": "AJo6HHowAAxE"
      }
    },
    {
      "cell_type": "markdown",
      "source": [
        "##  Importing Libraries"
      ],
      "metadata": {
        "id": "rbd-qWU5AQK6"
      }
    },
    {
      "cell_type": "markdown",
      "source": [
        "1. Import libraries for creating datasets (make_classification and load_breast_cancer), splitting data, and evaluating model performance.\n",
        "2. Use numpy and pandas for data handling and matplotlib for visualizations.\n",
        "3. BaseEstimator provides a foundation for implementing custom models."
      ],
      "metadata": {
        "id": "oOCYVaaxAWa8"
      }
    },
    {
      "cell_type": "code",
      "execution_count": 1,
      "metadata": {
        "id": "TpP_8j9q-xPz"
      },
      "outputs": [],
      "source": [
        "from sklearn.datasets import make_classification\n",
        "\n",
        "from sklearn.metrics import accuracy_score\n",
        "from sklearn.model_selection import train_test_split\n",
        "import numpy as np\n",
        "import pandas as pd\n",
        "import matplotlib.pyplot as plt\n",
        "from sklearn.base import clone\n",
        "from sklearn.base import BaseEstimator\n",
        "from sklearn.metrics import accuracy_score\n",
        "from sklearn.datasets import load_breast_cancer\n",
        "from sklearn.decomposition import PCA\n",
        "# from logistic import Logistic_Regression"
      ]
    },
    {
      "cell_type": "markdown",
      "source": [
        "Accuracy function : Computes the accuracy of predictions as the proportion of correctly classified samples."
      ],
      "metadata": {
        "id": "-uAMCroWAayR"
      }
    },
    {
      "cell_type": "code",
      "source": [
        "def accuracy(y_true, y_pred):\n",
        "    accuracy = np.sum(y_true == y_pred) / len(y_true)\n",
        "    return accuracy"
      ],
      "metadata": {
        "id": "-tixkE6g-5Aw"
      },
      "execution_count": 2,
      "outputs": []
    },
    {
      "cell_type": "markdown",
      "source": [
        "## Model"
      ],
      "metadata": {
        "id": "Pu5j9oEh-8YG"
      }
    },
    {
      "cell_type": "markdown",
      "source": [
        "Logistic Regression Implementation: Implements logistic regression from scratch with gradient descent for binary classification.\n",
        "Key Components:\n",
        "* _sigmoid: Computes the sigmoid function for probabilities.\n",
        "* fit: Trains the model using gradient descent.\n",
        "* predict: Makes predictions using the trained model."
      ],
      "metadata": {
        "id": "yN8TE90_AeaD"
      }
    },
    {
      "cell_type": "code",
      "source": [
        "from sklearn.base import BaseEstimator\n",
        "\n",
        "\n",
        "class Logistic_Regression(BaseEstimator):\n",
        "\n",
        "    def __init__(self, learning_rate=0.01, epochs=1000):\n",
        "        self.learning_rate = learning_rate\n",
        "        self.epochs = epochs\n",
        "        self.weights = None\n",
        "        self.bias = None\n",
        "        self.cost_per_iteration = []\n",
        "\n",
        "\n",
        "    def _sigmoid(self, x):\n",
        "        EPS = 1e-7\n",
        "        return 1 / (1 + np.exp(-x + EPS))\n",
        "\n",
        "\n",
        "    def fit(self, X, y):\n",
        "        m, n = X.shape\n",
        "        self.weights = np.zeros(n)\n",
        "        self.bias = 0\n",
        "\n",
        "        # gradient descent\n",
        "\n",
        "        for _ in range(self.epochs):\n",
        "            # forward propagation\n",
        "            Z = np.dot(X, self.weights) + self.bias\n",
        "            A = self._sigmoid(Z)\n",
        "\n",
        "            # backward propagation\n",
        "            dw = (1 / m) * np.dot(X.T, A - y)\n",
        "            db = (1 / m) * np.sum(A - y)\n",
        "\n",
        "            self.weights -= self.learning_rate * dw\n",
        "            self.bias -= self.learning_rate * db\n",
        "\n",
        "    def predict(self, X):\n",
        "        Z = np.dot(X, self.weights) + self.bias\n",
        "        A = self._sigmoid(Z)\n",
        "\n",
        "        if not isinstance(A, float):\n",
        "            y_predicted_cls = [1 if i >= 0.5 else 0 for i in A]\n",
        "        else:\n",
        "            y_predicted_cls = 1 if A >= 0.5 else 0\n",
        "        return y_predicted_cls\n",
        "\n",
        "\n",
        "    def __str__(self):\n",
        "        return f\"Logistic_Regression(learning_rate={self.learning_rate}, epochs={self.epochs})\""
      ],
      "metadata": {
        "id": "83ocjg7q-9rt"
      },
      "execution_count": 3,
      "outputs": []
    },
    {
      "cell_type": "markdown",
      "source": [
        "AdaBoost Implementation: Implements the AdaBoost algorithm using a specified base estimator.\n"
      ],
      "metadata": {
        "id": "VQ7hQ5RfAm0F"
      }
    },
    {
      "cell_type": "code",
      "source": [
        "class AdaBoost(object):\n",
        "\n",
        "    def __init__(self, base_estimator, n_estimators, learning_rate):\n",
        "        self.base_estimator = base_estimator\n",
        "        self.n_estimators = n_estimators\n",
        "        self.learning_rate = learning_rate\n",
        "        self.predictor_weightages = []\n",
        "\n",
        "\n",
        "    def fit(self, X, y):\n",
        "        n_samples, n_features = X.shape\n",
        "\n",
        "        for i in range(self.n_estimators):\n",
        "\n",
        "            # initially all instances have the same weight\n",
        "            instance_weights = self._initial_instance_weights(n_samples)\n",
        "\n",
        "            # Use predictor to make classification error\n",
        "            clone_clf = clone(self.base_estimator)\n",
        "            clone_clf.fit(X, y)\n",
        "            predicted = clone_clf.predict(X)\n",
        "\n",
        "            # getting misclassified instances\n",
        "            mis_classified_instances, acc = self._getAccuracy(y, predicted)\n",
        "\n",
        "            # total error made by the predictor\n",
        "            total_err = self._total_error(mis_classified_instances, instance_weights)\n",
        "\n",
        "            # weightage of predictor based on its error\n",
        "            predictor_weightage = self._get_predictor_weightage(total_err)\n",
        "            self.predictor_weightages.append((i, clone_clf, predictor_weightage))\n",
        "\n",
        "            # updating instance weights\n",
        "            instance_weights = self._update_instance_weights(mis_classified_instances,\n",
        "                                                             instance_weights, predictor_weightage)\n",
        "\n",
        "\n",
        "            # sampling data with replacement focusing on instances that were misclassified\n",
        "            X, y = self._new_sample_set(X, y, instance_weights)\n",
        "\n",
        "\n",
        "\n",
        "    def _initial_instance_weights(self, shape):\n",
        "        instance_weights = np.full(shape=shape, fill_value=1/shape)\n",
        "        return instance_weights\n",
        "\n",
        "\n",
        "    def _getAccuracy(self, true, predicted):\n",
        "        assert len(true) == len(predicted)\n",
        "        error_instance = np.equal(true, predicted).astype(int)\n",
        "        miss_classified = []\n",
        "\n",
        "        for i, j in enumerate(error_instance):\n",
        "            if j == 0:\n",
        "                miss_classified.append(i)\n",
        "\n",
        "        accuracy = np.sum(true == predicted)\n",
        "        return miss_classified, (accuracy/len(true)) * 100.0\n",
        "\n",
        "\n",
        "    def _total_error(self, mis_classified, instance_weights):\n",
        "        error = 0\n",
        "        for i in mis_classified:\n",
        "            error += instance_weights[i]\n",
        "\n",
        "        return error\n",
        "\n",
        "    def _get_predictor_weightage(self, error):\n",
        "        EPS = 1e-5\n",
        "        weightage = 0.5 * np.log((1.0 - error + EPS) / (error + EPS))\n",
        "        return weightage\n",
        "\n",
        "\n",
        "    def _update_instance_weights(self, mis_classified_instances, instance_weights, predictor_weightage):\n",
        "        weights = instance_weights[:]\n",
        "        EPS = 1e-10\n",
        "        for idx in range(len(instance_weights)):\n",
        "            if idx in mis_classified_instances:\n",
        "                weights[idx] = weights[idx] * np.exp(predictor_weightage + EPS)\n",
        "            else:\n",
        "                weights[idx] = weights[idx] * np.exp(-predictor_weightage + EPS)\n",
        "\n",
        "\n",
        "        # Normalizing weights\n",
        "        summed_weights = np.sum(weights)\n",
        "        weights /= summed_weights\n",
        "        return np.array(weights)\n",
        "\n",
        "    def _new_sample_set(self, X, y, instance_weights):\n",
        "        intervals = []\n",
        "        intervals.append(instance_weights[0])\n",
        "\n",
        "        for i, j in enumerate(instance_weights[1:], 1):\n",
        "            intervals.append(j + intervals[i-1])\n",
        "\n",
        "        idxs = []\n",
        "\n",
        "        for i in range(X.shape[0]):\n",
        "            samp = np.random.sample()\n",
        "            try:\n",
        "                idx = np.searchsorted(intervals, samp, side='right')\n",
        "                _ = X[idx] # check if exists\n",
        "            except:\n",
        "                idx = idx - 1\n",
        "\n",
        "            finally:\n",
        "                idxs.append(idx)\n",
        "\n",
        "        X = X[idxs]\n",
        "        y = y[idxs]\n",
        "        return X, y\n",
        "\n",
        "    def predict(self, X):\n",
        "        clf_predictions = np.array([clf.predict(X) for idx, clf, weightage in self.predictor_weightages])\n",
        "        predictions = []\n",
        "\n",
        "        for sample_predictions in clf_predictions.T:\n",
        "            class_0 = 0\n",
        "            class_1 = 0\n",
        "\n",
        "            for predictor, predictor_op in enumerate(sample_predictions):\n",
        "                if predictor_op == 0:\n",
        "                    class_0 += self.predictor_weightages[predictor][2]\n",
        "                else:\n",
        "                    class_1 += self.predictor_weightages[predictor][2]\n",
        "\n",
        "            if class_0 > class_1:\n",
        "                predictions.append(0)\n",
        "            else:\n",
        "                predictions.append(1)\n",
        "\n",
        "        return np.array(predictions)"
      ],
      "metadata": {
        "id": "DBwt7Po4_AXl"
      },
      "execution_count": 4,
      "outputs": []
    },
    {
      "cell_type": "markdown",
      "source": [
        "## Training and testing diabetes dataset"
      ],
      "metadata": {
        "id": "FnVlK78Q_B5Q"
      }
    },
    {
      "cell_type": "code",
      "source": [
        "diabetes_data = pd.read_csv(r'./diabetes_data.csv')\n",
        "diabetes_data.head()"
      ],
      "metadata": {
        "colab": {
          "base_uri": "https://localhost:8080/",
          "height": 206
        },
        "id": "PN6NEZiK_EuH",
        "outputId": "d10ac881-eb2f-46f5-cc17-0b2388f1ef14"
      },
      "execution_count": 7,
      "outputs": [
        {
          "output_type": "execute_result",
          "data": {
            "text/plain": [
              "   Pregnancies  Glucose  BloodPressure  SkinThickness  Insulin   BMI  \\\n",
              "0            6      148             72             35        0  33.6   \n",
              "1            1       85             66             29        0  26.6   \n",
              "2            8      183             64              0        0  23.3   \n",
              "3            1       89             66             23       94  28.1   \n",
              "4            0      137             40             35      168  43.1   \n",
              "\n",
              "   DiabetesPedigreeFunction  Age  Outcome  \n",
              "0                     0.627   50        1  \n",
              "1                     0.351   31        0  \n",
              "2                     0.672   32        1  \n",
              "3                     0.167   21        0  \n",
              "4                     2.288   33        1  "
            ],
            "text/html": [
              "\n",
              "  <div id=\"df-68724574-d84e-4dc7-b497-b1c22e8eaefd\" class=\"colab-df-container\">\n",
              "    <div>\n",
              "<style scoped>\n",
              "    .dataframe tbody tr th:only-of-type {\n",
              "        vertical-align: middle;\n",
              "    }\n",
              "\n",
              "    .dataframe tbody tr th {\n",
              "        vertical-align: top;\n",
              "    }\n",
              "\n",
              "    .dataframe thead th {\n",
              "        text-align: right;\n",
              "    }\n",
              "</style>\n",
              "<table border=\"1\" class=\"dataframe\">\n",
              "  <thead>\n",
              "    <tr style=\"text-align: right;\">\n",
              "      <th></th>\n",
              "      <th>Pregnancies</th>\n",
              "      <th>Glucose</th>\n",
              "      <th>BloodPressure</th>\n",
              "      <th>SkinThickness</th>\n",
              "      <th>Insulin</th>\n",
              "      <th>BMI</th>\n",
              "      <th>DiabetesPedigreeFunction</th>\n",
              "      <th>Age</th>\n",
              "      <th>Outcome</th>\n",
              "    </tr>\n",
              "  </thead>\n",
              "  <tbody>\n",
              "    <tr>\n",
              "      <th>0</th>\n",
              "      <td>6</td>\n",
              "      <td>148</td>\n",
              "      <td>72</td>\n",
              "      <td>35</td>\n",
              "      <td>0</td>\n",
              "      <td>33.6</td>\n",
              "      <td>0.627</td>\n",
              "      <td>50</td>\n",
              "      <td>1</td>\n",
              "    </tr>\n",
              "    <tr>\n",
              "      <th>1</th>\n",
              "      <td>1</td>\n",
              "      <td>85</td>\n",
              "      <td>66</td>\n",
              "      <td>29</td>\n",
              "      <td>0</td>\n",
              "      <td>26.6</td>\n",
              "      <td>0.351</td>\n",
              "      <td>31</td>\n",
              "      <td>0</td>\n",
              "    </tr>\n",
              "    <tr>\n",
              "      <th>2</th>\n",
              "      <td>8</td>\n",
              "      <td>183</td>\n",
              "      <td>64</td>\n",
              "      <td>0</td>\n",
              "      <td>0</td>\n",
              "      <td>23.3</td>\n",
              "      <td>0.672</td>\n",
              "      <td>32</td>\n",
              "      <td>1</td>\n",
              "    </tr>\n",
              "    <tr>\n",
              "      <th>3</th>\n",
              "      <td>1</td>\n",
              "      <td>89</td>\n",
              "      <td>66</td>\n",
              "      <td>23</td>\n",
              "      <td>94</td>\n",
              "      <td>28.1</td>\n",
              "      <td>0.167</td>\n",
              "      <td>21</td>\n",
              "      <td>0</td>\n",
              "    </tr>\n",
              "    <tr>\n",
              "      <th>4</th>\n",
              "      <td>0</td>\n",
              "      <td>137</td>\n",
              "      <td>40</td>\n",
              "      <td>35</td>\n",
              "      <td>168</td>\n",
              "      <td>43.1</td>\n",
              "      <td>2.288</td>\n",
              "      <td>33</td>\n",
              "      <td>1</td>\n",
              "    </tr>\n",
              "  </tbody>\n",
              "</table>\n",
              "</div>\n",
              "    <div class=\"colab-df-buttons\">\n",
              "\n",
              "  <div class=\"colab-df-container\">\n",
              "    <button class=\"colab-df-convert\" onclick=\"convertToInteractive('df-68724574-d84e-4dc7-b497-b1c22e8eaefd')\"\n",
              "            title=\"Convert this dataframe to an interactive table.\"\n",
              "            style=\"display:none;\">\n",
              "\n",
              "  <svg xmlns=\"http://www.w3.org/2000/svg\" height=\"24px\" viewBox=\"0 -960 960 960\">\n",
              "    <path d=\"M120-120v-720h720v720H120Zm60-500h600v-160H180v160Zm220 220h160v-160H400v160Zm0 220h160v-160H400v160ZM180-400h160v-160H180v160Zm440 0h160v-160H620v160ZM180-180h160v-160H180v160Zm440 0h160v-160H620v160Z\"/>\n",
              "  </svg>\n",
              "    </button>\n",
              "\n",
              "  <style>\n",
              "    .colab-df-container {\n",
              "      display:flex;\n",
              "      gap: 12px;\n",
              "    }\n",
              "\n",
              "    .colab-df-convert {\n",
              "      background-color: #E8F0FE;\n",
              "      border: none;\n",
              "      border-radius: 50%;\n",
              "      cursor: pointer;\n",
              "      display: none;\n",
              "      fill: #1967D2;\n",
              "      height: 32px;\n",
              "      padding: 0 0 0 0;\n",
              "      width: 32px;\n",
              "    }\n",
              "\n",
              "    .colab-df-convert:hover {\n",
              "      background-color: #E2EBFA;\n",
              "      box-shadow: 0px 1px 2px rgba(60, 64, 67, 0.3), 0px 1px 3px 1px rgba(60, 64, 67, 0.15);\n",
              "      fill: #174EA6;\n",
              "    }\n",
              "\n",
              "    .colab-df-buttons div {\n",
              "      margin-bottom: 4px;\n",
              "    }\n",
              "\n",
              "    [theme=dark] .colab-df-convert {\n",
              "      background-color: #3B4455;\n",
              "      fill: #D2E3FC;\n",
              "    }\n",
              "\n",
              "    [theme=dark] .colab-df-convert:hover {\n",
              "      background-color: #434B5C;\n",
              "      box-shadow: 0px 1px 3px 1px rgba(0, 0, 0, 0.15);\n",
              "      filter: drop-shadow(0px 1px 2px rgba(0, 0, 0, 0.3));\n",
              "      fill: #FFFFFF;\n",
              "    }\n",
              "  </style>\n",
              "\n",
              "    <script>\n",
              "      const buttonEl =\n",
              "        document.querySelector('#df-68724574-d84e-4dc7-b497-b1c22e8eaefd button.colab-df-convert');\n",
              "      buttonEl.style.display =\n",
              "        google.colab.kernel.accessAllowed ? 'block' : 'none';\n",
              "\n",
              "      async function convertToInteractive(key) {\n",
              "        const element = document.querySelector('#df-68724574-d84e-4dc7-b497-b1c22e8eaefd');\n",
              "        const dataTable =\n",
              "          await google.colab.kernel.invokeFunction('convertToInteractive',\n",
              "                                                    [key], {});\n",
              "        if (!dataTable) return;\n",
              "\n",
              "        const docLinkHtml = 'Like what you see? Visit the ' +\n",
              "          '<a target=\"_blank\" href=https://colab.research.google.com/notebooks/data_table.ipynb>data table notebook</a>'\n",
              "          + ' to learn more about interactive tables.';\n",
              "        element.innerHTML = '';\n",
              "        dataTable['output_type'] = 'display_data';\n",
              "        await google.colab.output.renderOutput(dataTable, element);\n",
              "        const docLink = document.createElement('div');\n",
              "        docLink.innerHTML = docLinkHtml;\n",
              "        element.appendChild(docLink);\n",
              "      }\n",
              "    </script>\n",
              "  </div>\n",
              "\n",
              "\n",
              "<div id=\"df-ec8cb2e9-67bf-4f68-844d-b06ac3e79cfc\">\n",
              "  <button class=\"colab-df-quickchart\" onclick=\"quickchart('df-ec8cb2e9-67bf-4f68-844d-b06ac3e79cfc')\"\n",
              "            title=\"Suggest charts\"\n",
              "            style=\"display:none;\">\n",
              "\n",
              "<svg xmlns=\"http://www.w3.org/2000/svg\" height=\"24px\"viewBox=\"0 0 24 24\"\n",
              "     width=\"24px\">\n",
              "    <g>\n",
              "        <path d=\"M19 3H5c-1.1 0-2 .9-2 2v14c0 1.1.9 2 2 2h14c1.1 0 2-.9 2-2V5c0-1.1-.9-2-2-2zM9 17H7v-7h2v7zm4 0h-2V7h2v10zm4 0h-2v-4h2v4z\"/>\n",
              "    </g>\n",
              "</svg>\n",
              "  </button>\n",
              "\n",
              "<style>\n",
              "  .colab-df-quickchart {\n",
              "      --bg-color: #E8F0FE;\n",
              "      --fill-color: #1967D2;\n",
              "      --hover-bg-color: #E2EBFA;\n",
              "      --hover-fill-color: #174EA6;\n",
              "      --disabled-fill-color: #AAA;\n",
              "      --disabled-bg-color: #DDD;\n",
              "  }\n",
              "\n",
              "  [theme=dark] .colab-df-quickchart {\n",
              "      --bg-color: #3B4455;\n",
              "      --fill-color: #D2E3FC;\n",
              "      --hover-bg-color: #434B5C;\n",
              "      --hover-fill-color: #FFFFFF;\n",
              "      --disabled-bg-color: #3B4455;\n",
              "      --disabled-fill-color: #666;\n",
              "  }\n",
              "\n",
              "  .colab-df-quickchart {\n",
              "    background-color: var(--bg-color);\n",
              "    border: none;\n",
              "    border-radius: 50%;\n",
              "    cursor: pointer;\n",
              "    display: none;\n",
              "    fill: var(--fill-color);\n",
              "    height: 32px;\n",
              "    padding: 0;\n",
              "    width: 32px;\n",
              "  }\n",
              "\n",
              "  .colab-df-quickchart:hover {\n",
              "    background-color: var(--hover-bg-color);\n",
              "    box-shadow: 0 1px 2px rgba(60, 64, 67, 0.3), 0 1px 3px 1px rgba(60, 64, 67, 0.15);\n",
              "    fill: var(--button-hover-fill-color);\n",
              "  }\n",
              "\n",
              "  .colab-df-quickchart-complete:disabled,\n",
              "  .colab-df-quickchart-complete:disabled:hover {\n",
              "    background-color: var(--disabled-bg-color);\n",
              "    fill: var(--disabled-fill-color);\n",
              "    box-shadow: none;\n",
              "  }\n",
              "\n",
              "  .colab-df-spinner {\n",
              "    border: 2px solid var(--fill-color);\n",
              "    border-color: transparent;\n",
              "    border-bottom-color: var(--fill-color);\n",
              "    animation:\n",
              "      spin 1s steps(1) infinite;\n",
              "  }\n",
              "\n",
              "  @keyframes spin {\n",
              "    0% {\n",
              "      border-color: transparent;\n",
              "      border-bottom-color: var(--fill-color);\n",
              "      border-left-color: var(--fill-color);\n",
              "    }\n",
              "    20% {\n",
              "      border-color: transparent;\n",
              "      border-left-color: var(--fill-color);\n",
              "      border-top-color: var(--fill-color);\n",
              "    }\n",
              "    30% {\n",
              "      border-color: transparent;\n",
              "      border-left-color: var(--fill-color);\n",
              "      border-top-color: var(--fill-color);\n",
              "      border-right-color: var(--fill-color);\n",
              "    }\n",
              "    40% {\n",
              "      border-color: transparent;\n",
              "      border-right-color: var(--fill-color);\n",
              "      border-top-color: var(--fill-color);\n",
              "    }\n",
              "    60% {\n",
              "      border-color: transparent;\n",
              "      border-right-color: var(--fill-color);\n",
              "    }\n",
              "    80% {\n",
              "      border-color: transparent;\n",
              "      border-right-color: var(--fill-color);\n",
              "      border-bottom-color: var(--fill-color);\n",
              "    }\n",
              "    90% {\n",
              "      border-color: transparent;\n",
              "      border-bottom-color: var(--fill-color);\n",
              "    }\n",
              "  }\n",
              "</style>\n",
              "\n",
              "  <script>\n",
              "    async function quickchart(key) {\n",
              "      const quickchartButtonEl =\n",
              "        document.querySelector('#' + key + ' button');\n",
              "      quickchartButtonEl.disabled = true;  // To prevent multiple clicks.\n",
              "      quickchartButtonEl.classList.add('colab-df-spinner');\n",
              "      try {\n",
              "        const charts = await google.colab.kernel.invokeFunction(\n",
              "            'suggestCharts', [key], {});\n",
              "      } catch (error) {\n",
              "        console.error('Error during call to suggestCharts:', error);\n",
              "      }\n",
              "      quickchartButtonEl.classList.remove('colab-df-spinner');\n",
              "      quickchartButtonEl.classList.add('colab-df-quickchart-complete');\n",
              "    }\n",
              "    (() => {\n",
              "      let quickchartButtonEl =\n",
              "        document.querySelector('#df-ec8cb2e9-67bf-4f68-844d-b06ac3e79cfc button');\n",
              "      quickchartButtonEl.style.display =\n",
              "        google.colab.kernel.accessAllowed ? 'block' : 'none';\n",
              "    })();\n",
              "  </script>\n",
              "</div>\n",
              "\n",
              "    </div>\n",
              "  </div>\n"
            ],
            "application/vnd.google.colaboratory.intrinsic+json": {
              "type": "dataframe",
              "variable_name": "diabetes_data",
              "summary": "{\n  \"name\": \"diabetes_data\",\n  \"rows\": 768,\n  \"fields\": [\n    {\n      \"column\": \"Pregnancies\",\n      \"properties\": {\n        \"dtype\": \"number\",\n        \"std\": 3,\n        \"min\": 0,\n        \"max\": 17,\n        \"num_unique_values\": 17,\n        \"samples\": [\n          6,\n          1,\n          3\n        ],\n        \"semantic_type\": \"\",\n        \"description\": \"\"\n      }\n    },\n    {\n      \"column\": \"Glucose\",\n      \"properties\": {\n        \"dtype\": \"number\",\n        \"std\": 31,\n        \"min\": 0,\n        \"max\": 199,\n        \"num_unique_values\": 136,\n        \"samples\": [\n          151,\n          101,\n          112\n        ],\n        \"semantic_type\": \"\",\n        \"description\": \"\"\n      }\n    },\n    {\n      \"column\": \"BloodPressure\",\n      \"properties\": {\n        \"dtype\": \"number\",\n        \"std\": 19,\n        \"min\": 0,\n        \"max\": 122,\n        \"num_unique_values\": 47,\n        \"samples\": [\n          86,\n          46,\n          85\n        ],\n        \"semantic_type\": \"\",\n        \"description\": \"\"\n      }\n    },\n    {\n      \"column\": \"SkinThickness\",\n      \"properties\": {\n        \"dtype\": \"number\",\n        \"std\": 15,\n        \"min\": 0,\n        \"max\": 99,\n        \"num_unique_values\": 51,\n        \"samples\": [\n          7,\n          12,\n          48\n        ],\n        \"semantic_type\": \"\",\n        \"description\": \"\"\n      }\n    },\n    {\n      \"column\": \"Insulin\",\n      \"properties\": {\n        \"dtype\": \"number\",\n        \"std\": 115,\n        \"min\": 0,\n        \"max\": 846,\n        \"num_unique_values\": 186,\n        \"samples\": [\n          52,\n          41,\n          183\n        ],\n        \"semantic_type\": \"\",\n        \"description\": \"\"\n      }\n    },\n    {\n      \"column\": \"BMI\",\n      \"properties\": {\n        \"dtype\": \"number\",\n        \"std\": 7.8841603203754405,\n        \"min\": 0.0,\n        \"max\": 67.1,\n        \"num_unique_values\": 248,\n        \"samples\": [\n          19.9,\n          31.0,\n          38.1\n        ],\n        \"semantic_type\": \"\",\n        \"description\": \"\"\n      }\n    },\n    {\n      \"column\": \"DiabetesPedigreeFunction\",\n      \"properties\": {\n        \"dtype\": \"number\",\n        \"std\": 0.33132859501277484,\n        \"min\": 0.078,\n        \"max\": 2.42,\n        \"num_unique_values\": 517,\n        \"samples\": [\n          1.731,\n          0.426,\n          0.138\n        ],\n        \"semantic_type\": \"\",\n        \"description\": \"\"\n      }\n    },\n    {\n      \"column\": \"Age\",\n      \"properties\": {\n        \"dtype\": \"number\",\n        \"std\": 11,\n        \"min\": 21,\n        \"max\": 81,\n        \"num_unique_values\": 52,\n        \"samples\": [\n          60,\n          47,\n          72\n        ],\n        \"semantic_type\": \"\",\n        \"description\": \"\"\n      }\n    },\n    {\n      \"column\": \"Outcome\",\n      \"properties\": {\n        \"dtype\": \"number\",\n        \"std\": 0,\n        \"min\": 0,\n        \"max\": 1,\n        \"num_unique_values\": 2,\n        \"samples\": [\n          0,\n          1\n        ],\n        \"semantic_type\": \"\",\n        \"description\": \"\"\n      }\n    }\n  ]\n}"
            }
          },
          "metadata": {},
          "execution_count": 7
        }
      ]
    },
    {
      "cell_type": "code",
      "source": [
        "X = diabetes_data[diabetes_data.columns[:-1]].values\n",
        "y = diabetes_data[diabetes_data.columns[-1]].values\n",
        "\n",
        "\n",
        "X_train, X_test, y_train, y_test = train_test_split(X, y, test_size=0.2, stratify=y, random_state=42)"
      ],
      "metadata": {
        "id": "2U9oa9v0_NhO"
      },
      "execution_count": 8,
      "outputs": []
    },
    {
      "cell_type": "markdown",
      "source": [
        "## Training AdaBoost\n",
        "\n",
        "1. Base Estimator: Logistic Regression is used as the weak learner.\n",
        "2. AdaBoost: Trained with 50 weak learners and a learning rate of 0.5."
      ],
      "metadata": {
        "id": "98DF2w6ZA-rF"
      }
    },
    {
      "cell_type": "code",
      "source": [
        "ada_clf = AdaBoost(base_estimator=Logistic_Regression(learning_rate=0.001, epochs=500),\n",
        "                  n_estimators=10, learning_rate=0.5)"
      ],
      "metadata": {
        "id": "qVgUsMvp_PB6"
      },
      "execution_count": 9,
      "outputs": []
    },
    {
      "cell_type": "code",
      "source": [
        "ada_clf.fit(X_train, y_train)\n",
        "y_pred = ada_clf.predict(X_train)\n",
        "print(f\"Training Accuracy: {round(accuracy(y_train, y_pred), 2)}\")\n",
        "\n",
        "y_pred = ada_clf.predict(X_test)\n",
        "print(f\"Validation Accuracy: {round(accuracy(y_test, y_pred), 2)}\")"
      ],
      "metadata": {
        "colab": {
          "base_uri": "https://localhost:8080/"
        },
        "id": "c93c5-dO_QVl",
        "outputId": "84f5458f-85e6-4214-a31d-36e48cac2dcd"
      },
      "execution_count": 10,
      "outputs": [
        {
          "output_type": "stream",
          "name": "stdout",
          "text": [
            "Training Accuracy: 0.66\n",
            "Validation Accuracy: 0.67\n"
          ]
        }
      ]
    },
    {
      "cell_type": "markdown",
      "source": [
        "## Metrics"
      ],
      "metadata": {
        "id": "VJoqS2Ci_Rrs"
      }
    },
    {
      "cell_type": "code",
      "source": [
        "from sklearn.metrics import precision_score, recall_score, f1_score"
      ],
      "metadata": {
        "id": "I2Gr6QOu_TyH"
      },
      "execution_count": 11,
      "outputs": []
    },
    {
      "cell_type": "code",
      "source": [
        "print(f\"Model Precision: {precision_score(y_test, y_pred)}\")\n",
        "print(f\"Model Recall: {recall_score(y_test, y_pred)}\")\n",
        "print(f\"Model F1-score: {f1_score(y_test, y_pred)}\")"
      ],
      "metadata": {
        "colab": {
          "base_uri": "https://localhost:8080/"
        },
        "id": "iy02vpRQ_VVG",
        "outputId": "b51da9b4-a39f-405c-d67a-f0e5f031e642"
      },
      "execution_count": 12,
      "outputs": [
        {
          "output_type": "stream",
          "name": "stdout",
          "text": [
            "Model Precision: 0.5882352941176471\n",
            "Model Recall: 0.18518518518518517\n",
            "Model F1-score: 0.28169014084507044\n"
          ]
        }
      ]
    },
    {
      "cell_type": "code",
      "source": [
        "# roc curve\n",
        "from sklearn.metrics import roc_curve\n",
        "\n",
        "fpr, tpr, thresholdsh = roc_curve(y_test, y_pred)"
      ],
      "metadata": {
        "id": "EqKkQ2Yv_XBb"
      },
      "execution_count": 13,
      "outputs": []
    },
    {
      "cell_type": "markdown",
      "source": [
        "The Receiver Operating Characteristic (ROC) curve plots the trade-off between True Positive Rate and False Positive Rate: It visualizes the performance of a binary classifier at various threshold levels."
      ],
      "metadata": {
        "id": "wLzwpt4MBWoL"
      }
    },
    {
      "cell_type": "code",
      "source": [
        "def plot_roc_curve(fpr, tpr, label=None):\n",
        "    plt.plot(fpr, tpr, linewidth=2, label=label)\n",
        "    plt.plot([0, 1], [0, 1], 'k--')\n",
        "    plt.axis([0, 1, 0, 1])\n",
        "    plt.xlabel('False Positive Rate (Fall-Out)', fontsize=16)\n",
        "    plt.ylabel('True Positive Rate (Recall)', fontsize=16)\n",
        "    plt.grid(True)\n",
        "\n",
        "plt.figure(figsize=(8, 6))\n",
        "plot_roc_curve(fpr, tpr)"
      ],
      "metadata": {
        "colab": {
          "base_uri": "https://localhost:8080/",
          "height": 553
        },
        "id": "w725RcaG_YWP",
        "outputId": "f5220ea5-9780-4b39-e0fd-cf89aece9b55"
      },
      "execution_count": 14,
      "outputs": [
        {
          "output_type": "display_data",
          "data": {
            "text/plain": [
              "<Figure size 800x600 with 1 Axes>"
            ],
            "image/png": "[encoded data removed]"
          },
          "metadata": {}
        }
      ]
    },
    {
      "cell_type": "code",
      "source": [
        "from sklearn.metrics import roc_auc_score\n",
        "\n",
        "roc_auc_score(y_test, y_pred)"
      ],
      "metadata": {
        "colab": {
          "base_uri": "https://localhost:8080/"
        },
        "id": "Q5unID_e_ZvD",
        "outputId": "f1acd87d-f614-408e-f3f8-f4dba4694148"
      },
      "execution_count": 15,
      "outputs": [
        {
          "output_type": "execute_result",
          "data": {
            "text/plain": [
              "0.5575925925925925"
            ]
          },
          "metadata": {},
          "execution_count": 15
        }
      ]
    }
  ]
}