{
  "nbformat": 4,
  "nbformat_minor": 0,
  "metadata": {
    "colab": {
      "provenance": []
    },
    "kernelspec": {
      "name": "python3",
      "display_name": "Python 3"
    },
    "language_info": {
      "name": "python"
    }
  },
  "cells": [
    {
      "cell_type": "markdown",
      "source": [
        "Gradient Boosting Machine (GBM) classifiers are a family of powerful machine learning algorithms that are widely used for classification tasks. These techniques combine weak learners (usually decision trees) to create a strong classifier"
      ],
      "metadata": {
        "id": "ajtCGasGI5ZH"
      }
    },
    {
      "cell_type": "markdown",
      "source": [
        "Step 1: Setup and Import Libraries"
      ],
      "metadata": {
        "id": "2xFhIZCQIfOI"
      }
    },
    {
      "cell_type": "code",
      "execution_count": 1,
      "metadata": {
        "colab": {
          "base_uri": "https://localhost:8080/"
        },
        "id": "0zjngYA7HmtJ",
        "outputId": "6071c3b8-544e-49e0-bf19-6d0d222b5e8d"
      },
      "outputs": [
        {
          "output_type": "stream",
          "name": "stdout",
          "text": [
            "\u001b[2K   \u001b[90m━━━━━━━━━━━━━━━━━━━━━━━━━━━━━━━━━━━━━━━━\u001b[0m \u001b[32m98.7/98.7 MB\u001b[0m \u001b[31m2.6 MB/s\u001b[0m eta \u001b[36m0:00:00\u001b[0m\n",
            "\u001b[?25h"
          ]
        },
        {
          "output_type": "stream",
          "name": "stderr",
          "text": [
            "/usr/local/lib/python3.10/dist-packages/dask/dataframe/__init__.py:42: FutureWarning: \n",
            "Dask dataframe query planning is disabled because dask-expr is not installed.\n",
            "\n",
            "You can install it with `pip install dask[dataframe]` or `conda install dask`.\n",
            "This will raise in a future version.\n",
            "\n",
            "  warnings.warn(msg, FutureWarning)\n"
          ]
        }
      ],
      "source": [
        "# Install necessary libraries\n",
        "!pip install xgboost lightgbm catboost -q\n",
        "\n",
        "# Import libraries\n",
        "import numpy as np\n",
        "import pandas as pd\n",
        "import matplotlib.pyplot as plt\n",
        "from sklearn.datasets import make_classification\n",
        "from sklearn.model_selection import train_test_split\n",
        "from sklearn.metrics import classification_report, roc_auc_score, roc_curve\n",
        "from sklearn.ensemble import GradientBoostingClassifier\n",
        "import xgboost as xgb\n",
        "import lightgbm as lgb\n",
        "from catboost import CatBoostClassifier\n"
      ]
    },
    {
      "cell_type": "markdown",
      "source": [
        "Step 2: Create and Prepare the Dataset\n"
      ],
      "metadata": {
        "id": "MeE-5aKoIiiA"
      }
    },
    {
      "cell_type": "code",
      "source": [
        "# Generate a synthetic classification dataset\n",
        "X, y = make_classification(\n",
        "    n_samples=1000, n_features=20, n_informative=15, n_redundant=5,\n",
        "    random_state=42, class_sep=0.7\n",
        ")\n",
        "\n",
        "# Split the data into train and test sets\n",
        "X_train, X_test, y_train, y_test = train_test_split(X, y, test_size=0.3, random_state=42)\n"
      ],
      "metadata": {
        "id": "O96XWZ6XIjtk"
      },
      "execution_count": 2,
      "outputs": []
    },
    {
      "cell_type": "markdown",
      "source": [
        "Step 3: Gradient Boosting Classifier\n",
        "\n",
        "* Sequentially trains decision trees, with each tree attempting to correct errors made by the previous ones.\n",
        "* Uses the gradient of a specified loss function (e.g., log loss for classification) to improve predictions."
      ],
      "metadata": {
        "id": "9y_8auukImA5"
      }
    },
    {
      "cell_type": "code",
      "source": [
        "# Train the Gradient Boosting Classifier\n",
        "gbm = GradientBoostingClassifier(n_estimators=100, learning_rate=0.1, max_depth=3, random_state=42)\n",
        "gbm.fit(X_train, y_train)\n",
        "\n",
        "# Evaluate and visualize results\n",
        "y_pred_gbm = gbm.predict(X_test)\n",
        "y_pred_prob_gbm = gbm.predict_proba(X_test)[:, 1]\n",
        "\n",
        "print(\"Gradient Boosting Classifier Report:\")\n",
        "print(classification_report(y_test, y_pred_gbm))\n",
        "\n",
        "fpr, tpr, _ = roc_curve(y_test, y_pred_prob_gbm)\n",
        "plt.plot(fpr, tpr, label='GBM (AUC = {:.2f})'.format(roc_auc_score(y_test, y_pred_prob_gbm)))\n"
      ],
      "metadata": {
        "colab": {
          "base_uri": "https://localhost:8080/",
          "height": 621
        },
        "id": "3B6kgbQ5ImWh",
        "outputId": "9433ec6a-5088-421d-e774-18fe3861fe8a"
      },
      "execution_count": 3,
      "outputs": [
        {
          "output_type": "stream",
          "name": "stdout",
          "text": [
            "Gradient Boosting Classifier Report:\n",
            "              precision    recall  f1-score   support\n",
            "\n",
            "           0       0.88      0.86      0.87       160\n",
            "           1       0.84      0.86      0.85       140\n",
            "\n",
            "    accuracy                           0.86       300\n",
            "   macro avg       0.86      0.86      0.86       300\n",
            "weighted avg       0.86      0.86      0.86       300\n",
            "\n"
          ]
        },
        {
          "output_type": "execute_result",
          "data": {
            "text/plain": [
              "[<matplotlib.lines.Line2D at 0x7f0fb77517e0>]"
            ]
          },
          "metadata": {},
          "execution_count": 3
        },
        {
          "output_type": "display_data",
          "data": {
            "text/plain": [
              "<Figure size 640x480 with 1 Axes>"
            ],
            "image/png": "[encoded data removed]"
          },
          "metadata": {}
        }
      ]
    },
    {
      "cell_type": "markdown",
      "source": [
        "* The ROC curve for GBM reflects its performance in separating classes.\n",
        "* The AUC score (area under the curve) quantifies its classification ability, with higher values indicating better performance."
      ],
      "metadata": {
        "id": "rBqJ9bJdMG1W"
      }
    },
    {
      "cell_type": "markdown",
      "source": [
        "Step 4: Extreme Gradient Boosting (XGBoost)\n",
        "* Builds on traditional GBM by adding regularization to prevent overfitting.\n",
        "* Supports distributed and parallel computation for faster training.\n",
        "* Handles missing values effectively."
      ],
      "metadata": {
        "id": "u9PIa-taIoij"
      }
    },
    {
      "cell_type": "code",
      "source": [
        "# Train the XGBoost Classifier\n",
        "xgb_model = xgb.XGBClassifier(use_label_encoder=False, eval_metric='logloss', random_state=42)\n",
        "xgb_model.fit(X_train, y_train)\n",
        "\n",
        "# Evaluate and visualize results\n",
        "y_pred_xgb = xgb_model.predict(X_test)\n",
        "y_pred_prob_xgb = xgb_model.predict_proba(X_test)[:, 1]\n",
        "\n",
        "print(\"\\nXGBoost Classifier Report:\")\n",
        "print(classification_report(y_test, y_pred_xgb))\n",
        "\n",
        "fpr, tpr, _ = roc_curve(y_test, y_pred_prob_xgb)\n",
        "plt.plot(fpr, tpr, label='XGBoost (AUC = {:.2f})'.format(roc_auc_score(y_test, y_pred_prob_xgb)))\n"
      ],
      "metadata": {
        "colab": {
          "base_uri": "https://localhost:8080/",
          "height": 708
        },
        "id": "zWMdw2mTIo12",
        "outputId": "22b27222-024a-4eaa-98ec-c05849f5c36a"
      },
      "execution_count": 4,
      "outputs": [
        {
          "output_type": "stream",
          "name": "stdout",
          "text": [
            "\n",
            "XGBoost Classifier Report:\n",
            "              precision    recall  f1-score   support\n",
            "\n",
            "           0       0.91      0.84      0.88       160\n",
            "           1       0.84      0.91      0.87       140\n",
            "\n",
            "    accuracy                           0.87       300\n",
            "   macro avg       0.87      0.88      0.87       300\n",
            "weighted avg       0.88      0.87      0.87       300\n",
            "\n"
          ]
        },
        {
          "output_type": "stream",
          "name": "stderr",
          "text": [
            "/usr/local/lib/python3.10/dist-packages/xgboost/core.py:158: UserWarning: [06:19:57] WARNING: /workspace/src/learner.cc:740: \n",
            "Parameters: { \"use_label_encoder\" } are not used.\n",
            "\n",
            "  warnings.warn(smsg, UserWarning)\n"
          ]
        },
        {
          "output_type": "execute_result",
          "data": {
            "text/plain": [
              "[<matplotlib.lines.Line2D at 0x7f0ffef0dba0>]"
            ]
          },
          "metadata": {},
          "execution_count": 4
        },
        {
          "output_type": "display_data",
          "data": {
            "text/plain": [
              "<Figure size 640x480 with 1 Axes>"
            ],
            "image/png": "[encoded data removed]"
          },
          "metadata": {}
        }
      ]
    },
    {
      "cell_type": "markdown",
      "source": [
        "The ROC curve for XGBoost often shows better separation than GBM, with a typically higher AUC score due to its robust optimization techniques."
      ],
      "metadata": {
        "id": "9kB7d1o2MLSU"
      }
    },
    {
      "cell_type": "markdown",
      "source": [
        "Step 5: Light Gradient Boosting Machine (LightGBM)\n",
        "* Employs a histogram-based algorithm for faster data splitting.\n",
        "* Grows trees leaf-wise (instead of level-wise) for more flexible and efficient fitting."
      ],
      "metadata": {
        "id": "jfz4IqFGIrb5"
      }
    },
    {
      "cell_type": "code",
      "source": [
        "# Train the LightGBM Classifier\n",
        "lgb_model = lgb.LGBMClassifier(random_state=42)\n",
        "lgb_model.fit(X_train, y_train)\n",
        "\n",
        "# Evaluate and visualize results\n",
        "y_pred_lgb = lgb_model.predict(X_test)\n",
        "y_pred_prob_lgb = lgb_model.predict_proba(X_test)[:, 1]\n",
        "\n",
        "print(\"\\nLightGBM Classifier Report:\")\n",
        "print(classification_report(y_test, y_pred_lgb))\n",
        "\n",
        "fpr, tpr, _ = roc_curve(y_test, y_pred_prob_lgb)\n",
        "plt.plot(fpr, tpr, label='LightGBM (AUC = {:.2f})'.format(roc_auc_score(y_test, y_pred_prob_lgb)))\n"
      ],
      "metadata": {
        "colab": {
          "base_uri": "https://localhost:8080/",
          "height": 1000
        },
        "id": "3UyUQWq3IsxH",
        "outputId": "8dbf9c6e-6466-43ea-e372-bc087f8d1650"
      },
      "execution_count": 5,
      "outputs": [
        {
          "output_type": "stream",
          "name": "stdout",
          "text": [
            "[LightGBM] [Info] Number of positive: 358, number of negative: 342\n",
            "[LightGBM] [Info] Auto-choosing col-wise multi-threading, the overhead of testing was 0.000571 seconds.\n",
            "You can set `force_col_wise=true` to remove the overhead.\n",
            "[LightGBM] [Info] Total Bins 4672\n",
            "[LightGBM] [Info] Number of data points in the train set: 700, number of used features: 20\n",
            "[LightGBM] [Info] [binary:BoostFromScore]: pavg=0.511429 -> initscore=0.045722\n",
            "[LightGBM] [Info] Start training from score 0.045722\n",
            "[LightGBM] [Warning] No further splits with positive gain, best gain: -inf\n",
            "[LightGBM] [Warning] No further splits with positive gain, best gain: -inf\n",
            "[LightGBM] [Warning] No further splits with positive gain, best gain: -inf\n",
            "[LightGBM] [Warning] No further splits with positive gain, best gain: -inf\n",
            "[LightGBM] [Warning] No further splits with positive gain, best gain: -inf\n",
            "[LightGBM] [Warning] No further splits with positive gain, best gain: -inf\n",
            "[LightGBM] [Warning] No further splits with positive gain, best gain: -inf\n",
            "[LightGBM] [Warning] No further splits with positive gain, best gain: -inf\n",
            "[LightGBM] [Warning] No further splits with positive gain, best gain: -inf\n",
            "[LightGBM] [Warning] No further splits with positive gain, best gain: -inf\n",
            "[LightGBM] [Warning] No further splits with positive gain, best gain: -inf\n",
            "[LightGBM] [Warning] No further splits with positive gain, best gain: -inf\n",
            "[LightGBM] [Warning] No further splits with positive gain, best gain: -inf\n",
            "[LightGBM] [Warning] No further splits with positive gain, best gain: -inf\n",
            "[LightGBM] [Warning] No further splits with positive gain, best gain: -inf\n",
            "[LightGBM] [Warning] No further splits with positive gain, best gain: -inf\n",
            "[LightGBM] [Warning] No further splits with positive gain, best gain: -inf\n",
            "[LightGBM] [Warning] No further splits with positive gain, best gain: -inf\n",
            "[LightGBM] [Warning] No further splits with positive gain, best gain: -inf\n",
            "[LightGBM] [Warning] No further splits with positive gain, best gain: -inf\n",
            "[LightGBM] [Warning] No further splits with positive gain, best gain: -inf\n",
            "[LightGBM] [Warning] No further splits with positive gain, best gain: -inf\n",
            "[LightGBM] [Warning] No further splits with positive gain, best gain: -inf\n",
            "[LightGBM] [Warning] No further splits with positive gain, best gain: -inf\n",
            "[LightGBM] [Warning] No further splits with positive gain, best gain: -inf\n",
            "[LightGBM] [Warning] No further splits with positive gain, best gain: -inf\n",
            "[LightGBM] [Warning] No further splits with positive gain, best gain: -inf\n",
            "[LightGBM] [Warning] No further splits with positive gain, best gain: -inf\n",
            "[LightGBM] [Warning] No further splits with positive gain, best gain: -inf\n",
            "[LightGBM] [Warning] No further splits with positive gain, best gain: -inf\n",
            "[LightGBM] [Warning] No further splits with positive gain, best gain: -inf\n",
            "[LightGBM] [Warning] No further splits with positive gain, best gain: -inf\n",
            "[LightGBM] [Warning] No further splits with positive gain, best gain: -inf\n",
            "[LightGBM] [Warning] No further splits with positive gain, best gain: -inf\n",
            "[LightGBM] [Warning] No further splits with positive gain, best gain: -inf\n",
            "[LightGBM] [Warning] No further splits with positive gain, best gain: -inf\n",
            "[LightGBM] [Warning] No further splits with positive gain, best gain: -inf\n",
            "[LightGBM] [Warning] No further splits with positive gain, best gain: -inf\n",
            "[LightGBM] [Warning] No further splits with positive gain, best gain: -inf\n",
            "[LightGBM] [Warning] No further splits with positive gain, best gain: -inf\n",
            "[LightGBM] [Warning] No further splits with positive gain, best gain: -inf\n",
            "[LightGBM] [Warning] No further splits with positive gain, best gain: -inf\n",
            "[LightGBM] [Warning] No further splits with positive gain, best gain: -inf\n",
            "[LightGBM] [Warning] No further splits with positive gain, best gain: -inf\n",
            "[LightGBM] [Warning] No further splits with positive gain, best gain: -inf\n",
            "[LightGBM] [Warning] No further splits with positive gain, best gain: -inf\n",
            "[LightGBM] [Warning] No further splits with positive gain, best gain: -inf\n",
            "[LightGBM] [Warning] No further splits with positive gain, best gain: -inf\n",
            "[LightGBM] [Warning] No further splits with positive gain, best gain: -inf\n",
            "[LightGBM] [Warning] No further splits with positive gain, best gain: -inf\n",
            "[LightGBM] [Warning] No further splits with positive gain, best gain: -inf\n",
            "[LightGBM] [Warning] No further splits with positive gain, best gain: -inf\n",
            "[LightGBM] [Warning] No further splits with positive gain, best gain: -inf\n",
            "[LightGBM] [Warning] No further splits with positive gain, best gain: -inf\n",
            "[LightGBM] [Warning] No further splits with positive gain, best gain: -inf\n",
            "[LightGBM] [Warning] No further splits with positive gain, best gain: -inf\n",
            "[LightGBM] [Warning] No further splits with positive gain, best gain: -inf\n",
            "[LightGBM] [Warning] No further splits with positive gain, best gain: -inf\n",
            "[LightGBM] [Warning] No further splits with positive gain, best gain: -inf\n",
            "[LightGBM] [Warning] No further splits with positive gain, best gain: -inf\n",
            "[LightGBM] [Warning] No further splits with positive gain, best gain: -inf\n",
            "[LightGBM] [Warning] No further splits with positive gain, best gain: -inf\n",
            "[LightGBM] [Warning] No further splits with positive gain, best gain: -inf\n",
            "[LightGBM] [Warning] No further splits with positive gain, best gain: -inf\n",
            "[LightGBM] [Warning] No further splits with positive gain, best gain: -inf\n",
            "[LightGBM] [Warning] No further splits with positive gain, best gain: -inf\n",
            "[LightGBM] [Warning] No further splits with positive gain, best gain: -inf\n",
            "[LightGBM] [Warning] No further splits with positive gain, best gain: -inf\n",
            "[LightGBM] [Warning] No further splits with positive gain, best gain: -inf\n",
            "[LightGBM] [Warning] No further splits with positive gain, best gain: -inf\n",
            "[LightGBM] [Warning] No further splits with positive gain, best gain: -inf\n",
            "[LightGBM] [Warning] No further splits with positive gain, best gain: -inf\n",
            "[LightGBM] [Warning] No further splits with positive gain, best gain: -inf\n",
            "[LightGBM] [Warning] No further splits with positive gain, best gain: -inf\n",
            "[LightGBM] [Warning] No further splits with positive gain, best gain: -inf\n",
            "[LightGBM] [Warning] No further splits with positive gain, best gain: -inf\n",
            "[LightGBM] [Warning] No further splits with positive gain, best gain: -inf\n",
            "[LightGBM] [Warning] No further splits with positive gain, best gain: -inf\n",
            "[LightGBM] [Warning] No further splits with positive gain, best gain: -inf\n",
            "[LightGBM] [Warning] No further splits with positive gain, best gain: -inf\n",
            "[LightGBM] [Warning] No further splits with positive gain, best gain: -inf\n",
            "[LightGBM] [Warning] No further splits with positive gain, best gain: -inf\n",
            "[LightGBM] [Warning] No further splits with positive gain, best gain: -inf\n",
            "[LightGBM] [Warning] No further splits with positive gain, best gain: -inf\n",
            "[LightGBM] [Warning] No further splits with positive gain, best gain: -inf\n",
            "[LightGBM] [Warning] No further splits with positive gain, best gain: -inf\n",
            "[LightGBM] [Warning] No further splits with positive gain, best gain: -inf\n",
            "[LightGBM] [Warning] No further splits with positive gain, best gain: -inf\n",
            "[LightGBM] [Warning] No further splits with positive gain, best gain: -inf\n",
            "[LightGBM] [Warning] No further splits with positive gain, best gain: -inf\n",
            "[LightGBM] [Warning] No further splits with positive gain, best gain: -inf\n",
            "[LightGBM] [Warning] No further splits with positive gain, best gain: -inf\n",
            "[LightGBM] [Warning] No further splits with positive gain, best gain: -inf\n",
            "[LightGBM] [Warning] No further splits with positive gain, best gain: -inf\n",
            "[LightGBM] [Warning] No further splits with positive gain, best gain: -inf\n",
            "\n",
            "LightGBM Classifier Report:\n",
            "              precision    recall  f1-score   support\n",
            "\n",
            "           0       0.90      0.88      0.89       160\n",
            "           1       0.86      0.89      0.88       140\n",
            "\n",
            "    accuracy                           0.88       300\n",
            "   macro avg       0.88      0.88      0.88       300\n",
            "weighted avg       0.88      0.88      0.88       300\n",
            "\n"
          ]
        },
        {
          "output_type": "execute_result",
          "data": {
            "text/plain": [
              "[<matplotlib.lines.Line2D at 0x7f0fb709d5a0>]"
            ]
          },
          "metadata": {},
          "execution_count": 5
        },
        {
          "output_type": "display_data",
          "data": {
            "text/plain": [
              "<Figure size 640x480 with 1 Axes>"
            ],
            "image/png": "[encoded data removed]"
          },
          "metadata": {}
        }
      ]
    },
    {
      "cell_type": "markdown",
      "source": [
        "LightGBM’s ROC curve is often comparable to XGBoost or slightly better in some cases, especially with larger datasets."
      ],
      "metadata": {
        "id": "bEV94ghgMRII"
      }
    },
    {
      "cell_type": "markdown",
      "source": [
        "Step 6: Categorical Boosting (CatBoost)\n",
        "* Specifically optimized for handling categorical features without extensive preprocessing (e.g., one-hot encoding).\n",
        "* Uses ordered boosting to reduce overfitting during training.\n"
      ],
      "metadata": {
        "id": "77um48dhIv-T"
      }
    },
    {
      "cell_type": "code",
      "source": [
        "# Train the CatBoost Classifier\n",
        "cat_model = CatBoostClassifier(verbose=0, random_state=42)\n",
        "cat_model.fit(X_train, y_train)\n",
        "\n",
        "# Evaluate and visualize results\n",
        "y_pred_cat = cat_model.predict(X_test)\n",
        "y_pred_prob_cat = cat_model.predict_proba(X_test)[:, 1]\n",
        "\n",
        "print(\"\\nCatBoost Classifier Report:\")\n",
        "print(classification_report(y_test, y_pred_cat))\n",
        "\n",
        "fpr, tpr, _ = roc_curve(y_test, y_pred_prob_cat)\n",
        "plt.plot(fpr, tpr, label='CatBoost (AUC = {:.2f})'.format(roc_auc_score(y_test, y_pred_prob_cat)))\n"
      ],
      "metadata": {
        "colab": {
          "base_uri": "https://localhost:8080/",
          "height": 638
        },
        "id": "tp6Euk9wIyBa",
        "outputId": "9af25034-e34d-41c9-f676-8d8ad409970e"
      },
      "execution_count": 6,
      "outputs": [
        {
          "output_type": "stream",
          "name": "stdout",
          "text": [
            "\n",
            "CatBoost Classifier Report:\n",
            "              precision    recall  f1-score   support\n",
            "\n",
            "           0       0.95      0.88      0.91       160\n",
            "           1       0.87      0.95      0.91       140\n",
            "\n",
            "    accuracy                           0.91       300\n",
            "   macro avg       0.91      0.91      0.91       300\n",
            "weighted avg       0.91      0.91      0.91       300\n",
            "\n"
          ]
        },
        {
          "output_type": "execute_result",
          "data": {
            "text/plain": [
              "[<matplotlib.lines.Line2D at 0x7f0fb7784640>]"
            ]
          },
          "metadata": {},
          "execution_count": 6
        },
        {
          "output_type": "display_data",
          "data": {
            "text/plain": [
              "<Figure size 640x480 with 1 Axes>"
            ],
            "image/png": "[encoded data removed]"
          },
          "metadata": {}
        }
      ]
    },
    {
      "cell_type": "markdown",
      "source": [
        "CatBoost’s ROC curve might outperform others when the dataset contains many categorical features or when preprocessing is minimal."
      ],
      "metadata": {
        "id": "bd6OF9UXMdkB"
      }
    },
    {
      "cell_type": "markdown",
      "source": [
        "Step 7: Visualize and Compare Models"
      ],
      "metadata": {
        "id": "OqI4lVPMIzx4"
      }
    },
    {
      "cell_type": "code",
      "source": [
        "# Create a new figure for the ROC comparison\n",
        "plt.figure(figsize=(10, 7))\n",
        "\n",
        "# Gradient Boosting Classifier\n",
        "fpr_gbm, tpr_gbm, _ = roc_curve(y_test, y_pred_prob_gbm)\n",
        "plt.plot(fpr_gbm, tpr_gbm, label='GBM (AUC = {:.2f})'.format(roc_auc_score(y_test, y_pred_prob_gbm)))\n",
        "\n",
        "# XGBoost Classifier\n",
        "fpr_xgb, tpr_xgb, _ = roc_curve(y_test, y_pred_prob_xgb)\n",
        "plt.plot(fpr_xgb, tpr_xgb, label='XGBoost (AUC = {:.2f})'.format(roc_auc_score(y_test, y_pred_prob_xgb)))\n",
        "\n",
        "# LightGBM Classifier\n",
        "fpr_lgb, tpr_lgb, _ = roc_curve(y_test, y_pred_prob_lgb)\n",
        "plt.plot(fpr_lgb, tpr_lgb, label='LightGBM (AUC = {:.2f})'.format(roc_auc_score(y_test, y_pred_prob_lgb)))\n",
        "\n",
        "# CatBoost Classifier\n",
        "fpr_cat, tpr_cat, _ = roc_curve(y_test, y_pred_prob_cat)\n",
        "plt.plot(fpr_cat, tpr_cat, label='CatBoost (AUC = {:.2f})'.format(roc_auc_score(y_test, y_pred_prob_cat)))\n",
        "\n",
        "# Finalize the plot\n",
        "plt.title('ROC Curve Comparison')\n",
        "plt.xlabel('False Positive Rate')\n",
        "plt.ylabel('True Positive Rate')\n",
        "plt.legend()\n",
        "plt.grid()\n",
        "plt.show()\n"
      ],
      "metadata": {
        "colab": {
          "base_uri": "https://localhost:8080/",
          "height": 641
        },
        "id": "9RXwfReTI0Hb",
        "outputId": "01a9d88f-8d3e-4da7-d558-0537a4ef4b18"
      },
      "execution_count": 8,
      "outputs": [
        {
          "output_type": "display_data",
          "data": {
            "text/plain": [
              "<Figure size 1000x700 with 1 Axes>"
            ],
            "image/png": "[encoded data removed]"
          },
          "metadata": {}
        }
      ]
    },
    {
      "cell_type": "markdown",
      "source": [
        "Comparison in the Plots\n",
        "1. GBM: Serves as the baseline. Its AUC score and ROC curve might be slightly lower due to the lack of advanced optimizations.\n",
        "2. XGBoost: Improves on GBM, showing higher AUC scores and better ROC curves due to regularization and optimization.\n",
        "3. LightGBM: Comparable to or better than XGBoost, especially for large datasets, with fast computation.\n",
        "4. CatBoost: Outperforms others when categorical data is present or preprocessing is minimal."
      ],
      "metadata": {
        "id": "flG79EGBMh7X"
      }
    }
  ]
}