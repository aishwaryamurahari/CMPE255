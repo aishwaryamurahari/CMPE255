{
  "nbformat": 4,
  "nbformat_minor": 0,
  "metadata": {
    "colab": {
      "provenance": [],
      "toc_visible": true
    },
    "kernelspec": {
      "name": "python3",
      "display_name": "Python 3"
    },
    "language_info": {
      "name": "python"
    }
  },
  "cells": [
    {
      "cell_type": "markdown",
      "source": [
        "*Simple print statement which displays output as \"Hello SJSU!\"*"
      ],
      "metadata": {
        "id": "_0a4e3j6NDwP"
      }
    },
    {
      "cell_type": "code",
      "source": [
        "print(\"Hello SJSU!\")"
      ],
      "metadata": {
        "colab": {
          "base_uri": "https://localhost:8080/"
        },
        "id": "0hl9B3cGNRWP",
        "outputId": "5dbae1ba-3ddd-447d-8646-aa9ae00e42ef"
      },
      "execution_count": 2,
      "outputs": [
        {
          "output_type": "stream",
          "name": "stdout",
          "text": [
            "Hello SJSU!\n"
          ]
        }
      ]
    },
    {
      "cell_type": "markdown",
      "source": [
        "*Multiline comments in python*"
      ],
      "metadata": {
        "id": "kz9s6PrVOQez"
      }
    },
    {
      "cell_type": "code",
      "source": [
        "'''\n",
        "This is an example of a multiline comment.\n",
        "It spans multiple lines.\n",
        "'''\n",
        "print(\"Hello, SJSU!\")"
      ],
      "metadata": {
        "colab": {
          "base_uri": "https://localhost:8080/"
        },
        "id": "P6ZPmIOJOTSs",
        "outputId": "b2ddbc60-7fb6-4526-fb33-81b223eae157"
      },
      "execution_count": 5,
      "outputs": [
        {
          "output_type": "stream",
          "name": "stdout",
          "text": [
            "Hello, SJSU!\n"
          ]
        }
      ]
    },
    {
      "cell_type": "markdown",
      "source": [
        "*Assigning a string value to a variable*"
      ],
      "metadata": {
        "id": "OVa55YoqOrNp"
      }
    },
    {
      "cell_type": "code",
      "source": [
        "name = 'Aishwarya'\n",
        "print(name)"
      ],
      "metadata": {
        "colab": {
          "base_uri": "https://localhost:8080/"
        },
        "id": "ZEDrpjZbOyF4",
        "outputId": "1e9c86d2-2c43-4f7f-b2c2-6c816b0caa18"
      },
      "execution_count": 7,
      "outputs": [
        {
          "output_type": "stream",
          "name": "stdout",
          "text": [
            "Aishwarya\n"
          ]
        }
      ]
    },
    {
      "cell_type": "markdown",
      "source": [
        "*Assigning an integer value to a variable*"
      ],
      "metadata": {
        "id": "Lt4zHvGhPehl"
      }
    },
    {
      "cell_type": "code",
      "source": [
        "num = 15\n",
        "print(num)"
      ],
      "metadata": {
        "colab": {
          "base_uri": "https://localhost:8080/"
        },
        "id": "LXlwOoK2PwBe",
        "outputId": "7231cc1e-b901-49b5-e886-3cfd816a0b71"
      },
      "execution_count": 8,
      "outputs": [
        {
          "output_type": "stream",
          "name": "stdout",
          "text": [
            "15\n"
          ]
        }
      ]
    },
    {
      "cell_type": "markdown",
      "source": [
        "_The arithmetic operators +, -, *, /, %, **, //_\n",
        "\n",
        "\n"
      ],
      "metadata": {
        "id": "Dfg-Yj7hP6zi"
      }
    },
    {
      "cell_type": "code",
      "source": [
        "print(\"3 + 8 =\", 3+8)\n",
        "print(\"9 - 4 =\", 9-4)\n",
        "print(\"3 * 2 =\", 3*2)\n",
        "print(\"6 / 3 =\", 6/3)\n",
        "print(\"7 % 1 =\", 7%1)\n",
        "print(\"5 ** 4 =\", 5**4)\n",
        "print(\"9 // 7 =\", 9//7)"
      ],
      "metadata": {
        "colab": {
          "base_uri": "https://localhost:8080/"
        },
        "id": "BKiPzocyP7hY",
        "outputId": "201fac97-7b52-45e8-aa89-e84a45c45130"
      },
      "execution_count": 9,
      "outputs": [
        {
          "output_type": "stream",
          "name": "stdout",
          "text": [
            "3 + 8 = 11\n",
            "9 - 4 = 5\n",
            "3 * 2 = 6\n",
            "6 / 3 = 2.0\n",
            "7 % 1 = 0\n",
            "5 ** 4 = 625\n",
            "9 // 7 = 1\n"
          ]
        }
      ]
    },
    {
      "cell_type": "markdown",
      "source": [
        "_Order of arithematic operation mentions that * and / is performed before + and -_"
      ],
      "metadata": {
        "id": "_xHoPhucQ5j4"
      }
    },
    {
      "cell_type": "code",
      "source": [
        "print(\"2 + 5 - 3 * 6 =\", 2 + 5 - 3 * 6)\n",
        "print(\"(2 + 5 - 3) * 6 =\", (2 + 5 - 3) * 6)"
      ],
      "metadata": {
        "colab": {
          "base_uri": "https://localhost:8080/"
        },
        "id": "wNkwhev1RLbD",
        "outputId": "e62258d1-7350-4d23-85c2-35243cd3c116"
      },
      "execution_count": 10,
      "outputs": [
        {
          "output_type": "stream",
          "name": "stdout",
          "text": [
            "2 + 5 - 3 * 6 = -11\n",
            "(2 + 5 - 3) * 6 = 24\n"
          ]
        }
      ]
    },
    {
      "cell_type": "markdown",
      "source": [
        "*Escape Charaters*"
      ],
      "metadata": {
        "id": "VRhYYgNqRhDr"
      }
    },
    {
      "cell_type": "code",
      "source": [
        "# Single line quote\n",
        "quote = \"\\\"An apple a day,\"\n",
        "# A multi-line quote\n",
        "multi_line_quote = '''keeps\n",
        "a doctor away\" '''\n",
        "\n",
        "print(quote + multi_line_quote)"
      ],
      "metadata": {
        "colab": {
          "base_uri": "https://localhost:8080/"
        },
        "id": "fXajZJ6ARja9",
        "outputId": "4a620237-dfa7-41b7-a885-1b65cf4af1b5"
      },
      "execution_count": 17,
      "outputs": [
        {
          "output_type": "stream",
          "name": "stdout",
          "text": [
            "\"An apple a day,keeps\n",
            "a doctor away\" \n"
          ]
        }
      ]
    },
    {
      "cell_type": "markdown",
      "source": [
        "*Embed a string in output using %s*"
      ],
      "metadata": {
        "id": "nCOqG_C7S3x4"
      }
    },
    {
      "cell_type": "code",
      "source": [
        "print(\"%s %s %s\" % ('Do you know the quote?', quote, multi_line_quote))\n"
      ],
      "metadata": {
        "colab": {
          "base_uri": "https://localhost:8080/"
        },
        "id": "0np6CNe_SsfE",
        "outputId": "ed2962c2-282d-4718-8807-e07c0dc094e9"
      },
      "execution_count": 19,
      "outputs": [
        {
          "output_type": "stream",
          "name": "stdout",
          "text": [
            "Do you know the quote? \"An apple a day, keeps\n",
            "a doctor away\" \n"
          ]
        }
      ]
    },
    {
      "cell_type": "markdown",
      "source": [
        "*To avoid newlines at the end use end=\" \"*"
      ],
      "metadata": {
        "id": "7zrktI3WTAyT"
      }
    },
    {
      "cell_type": "code",
      "source": [
        "print(\"I don't like \",end=\"\")\n",
        "print(\"newlines\")"
      ],
      "metadata": {
        "colab": {
          "base_uri": "https://localhost:8080/"
        },
        "id": "r9iDBhTVTJXh",
        "outputId": "887dc417-37e8-4ea6-ec75-e4be6269f87c"
      },
      "execution_count": 22,
      "outputs": [
        {
          "output_type": "stream",
          "name": "stdout",
          "text": [
            "I don't like newlines\n"
          ]
        }
      ]
    },
    {
      "cell_type": "markdown",
      "source": [
        "*Print a string multiple times using **\n",
        "\n"
      ],
      "metadata": {
        "id": "X8LYiqAyT1Yf"
      }
    },
    {
      "cell_type": "code",
      "source": [
        "print('Hi''\\n'* 5)"
      ],
      "metadata": {
        "colab": {
          "base_uri": "https://localhost:8080/"
        },
        "id": "K3jWsOVXTe7M",
        "outputId": "0e3fb917-1351-440d-fa6f-403cbc797f47"
      },
      "execution_count": 25,
      "outputs": [
        {
          "output_type": "stream",
          "name": "stdout",
          "text": [
            "Hi\n",
            "Hi\n",
            "Hi\n",
            "Hi\n",
            "Hi\n",
            "\n"
          ]
        }
      ]
    },
    {
      "cell_type": "markdown",
      "source": [
        "*Lists*"
      ],
      "metadata": {
        "id": "QqhuqJFiVij_"
      }
    },
    {
      "cell_type": "code",
      "source": [
        "fruits_list = ['Apple', 'Tomatoes', 'Oranges', 'Bananas']\n",
        "print('The first item is', fruits_list[2])"
      ],
      "metadata": {
        "colab": {
          "base_uri": "https://localhost:8080/"
        },
        "id": "3RlQgimOVkYX",
        "outputId": "25b5e797-a2f9-49e1-a20d-84675cf04cdf"
      },
      "execution_count": 28,
      "outputs": [
        {
          "output_type": "stream",
          "name": "stdout",
          "text": [
            "The first item is Oranges\n"
          ]
        }
      ]
    },
    {
      "cell_type": "markdown",
      "source": [
        "*Changing a name in the list*"
      ],
      "metadata": {
        "id": "zKNwJUfPV6Ls"
      }
    },
    {
      "cell_type": "code",
      "source": [
        "fruits_list = ['Apple', 'Tomatoes', 'Oranges', 'Bananas']\n",
        "fruits_list[0] = 'Grapes'\n",
        "print(fruits_list[0])"
      ],
      "metadata": {
        "colab": {
          "base_uri": "https://localhost:8080/"
        },
        "id": "M3vsXVdeWHZb",
        "outputId": "a469554a-987d-4e9d-ef16-95f1a30e11ff"
      },
      "execution_count": 30,
      "outputs": [
        {
          "output_type": "stream",
          "name": "stdout",
          "text": [
            "Grapes\n"
          ]
        }
      ]
    },
    {
      "cell_type": "markdown",
      "source": [
        "*Getting a subset of a list*"
      ],
      "metadata": {
        "id": "j7G82RodYJMV"
      }
    },
    {
      "cell_type": "code",
      "source": [
        "fruits_list = ['Apple', 'Tomatoes', 'Oranges', 'Bananas']\n",
        "print(fruits_list[1:3])"
      ],
      "metadata": {
        "colab": {
          "base_uri": "https://localhost:8080/"
        },
        "id": "fn4ggGtqYMnq",
        "outputId": "a13c6aa5-63fa-4d60-e365-ae1d3c68faa5"
      },
      "execution_count": 31,
      "outputs": [
        {
          "output_type": "stream",
          "name": "stdout",
          "text": [
            "['Tomatoes', 'Oranges']\n"
          ]
        }
      ]
    },
    {
      "cell_type": "markdown",
      "source": [
        "*Adding lists within lists*"
      ],
      "metadata": {
        "id": "pDfGNyfeYqFf"
      }
    },
    {
      "cell_type": "code",
      "source": [
        "fruits_list = ['Apple', 'Tomatoes', 'Oranges', 'Bananas']\n",
        "grocery_list = ['Rice', 'Dal', 'Salt']\n",
        "to_do_list = [grocery_list, fruits_list]\n",
        "\n",
        "print(to_do_list)"
      ],
      "metadata": {
        "colab": {
          "base_uri": "https://localhost:8080/"
        },
        "id": "RwaI_g6yYrL1",
        "outputId": "5bc3ede5-d1e0-42c6-d7f2-4e5f6ee99501"
      },
      "execution_count": 32,
      "outputs": [
        {
          "output_type": "stream",
          "name": "stdout",
          "text": [
            "[['Rice', 'Dal', 'Salt'], ['Apple', 'Tomatoes', 'Oranges', 'Bananas']]\n"
          ]
        }
      ]
    },
    {
      "cell_type": "markdown",
      "source": [
        "*Get third item in list 2*"
      ],
      "metadata": {
        "id": "pMmJ1Cc8ZEqL"
      }
    },
    {
      "cell_type": "code",
      "source": [
        "fruits_list = ['Apple', 'Tomatoes', 'Oranges', 'Bananas']\n",
        "grocery_list = ['Rice', 'Dal', 'Salt']\n",
        "to_do_list = [grocery_list, fruits_list]\n",
        "print(to_do_list[1][3])"
      ],
      "metadata": {
        "colab": {
          "base_uri": "https://localhost:8080/"
        },
        "id": "RjLLmu8VZInK",
        "outputId": "122f083e-607b-43dd-c76f-370b2d353c0c"
      },
      "execution_count": 33,
      "outputs": [
        {
          "output_type": "stream",
          "name": "stdout",
          "text": [
            "Bananas\n"
          ]
        }
      ]
    },
    {
      "cell_type": "markdown",
      "source": [
        "_Adding new values using **append**_"
      ],
      "metadata": {
        "id": "lQ50w45IZcWT"
      }
    },
    {
      "cell_type": "code",
      "source": [
        "fruits_list = ['Apple', 'Tomatoes', 'Oranges', 'Bananas']\n",
        "grocery_list = ['Rice', 'Dal', 'Salt']\n",
        "to_do_list = [grocery_list, fruits_list]\n",
        "grocery_list.append('Onions')\n",
        "print(to_do_list)"
      ],
      "metadata": {
        "colab": {
          "base_uri": "https://localhost:8080/"
        },
        "id": "A70qdLxBZmx4",
        "outputId": "bc118073-4ff3-423a-84c6-5d3102540739"
      },
      "execution_count": 35,
      "outputs": [
        {
          "output_type": "stream",
          "name": "stdout",
          "text": [
            "[['Rice', 'Dal', 'Salt', 'Onions'], ['Apple', 'Tomatoes', 'Oranges', 'Bananas']]\n"
          ]
        }
      ]
    },
    {
      "cell_type": "markdown",
      "source": [
        "*Inserting an item into a given index*"
      ],
      "metadata": {
        "id": "LZDgyNugZ7ZE"
      }
    },
    {
      "cell_type": "code",
      "source": [
        "fruits_list = ['Apple', 'Tomatoes', 'Oranges', 'Bananas']\n",
        "fruits_list.insert(1, \"Grapes\")\n",
        "print(fruits_list)"
      ],
      "metadata": {
        "colab": {
          "base_uri": "https://localhost:8080/"
        },
        "id": "GZmEGyB-aBMx",
        "outputId": "be17d6c2-6c8d-46ed-e3b5-1af52958c76d"
      },
      "execution_count": 37,
      "outputs": [
        {
          "output_type": "stream",
          "name": "stdout",
          "text": [
            "['Apple', 'Grapes', 'Tomatoes', 'Oranges', 'Bananas']\n"
          ]
        }
      ]
    },
    {
      "cell_type": "markdown",
      "source": [
        "*Removing an item from a list*"
      ],
      "metadata": {
        "id": "X9dJv_E3aPAX"
      }
    },
    {
      "cell_type": "code",
      "source": [
        "fruits_list = ['Apple', 'Tomatoes', 'Oranges', 'Bananas']\n",
        "fruits_list.remove('Oranges')\n",
        "print(fruits_list)"
      ],
      "metadata": {
        "colab": {
          "base_uri": "https://localhost:8080/"
        },
        "id": "wODOvWdvaSGa",
        "outputId": "d40e1301-a5f4-49fb-a951-230c9cc7e4ee"
      },
      "execution_count": 39,
      "outputs": [
        {
          "output_type": "stream",
          "name": "stdout",
          "text": [
            "['Apple', 'Tomatoes', 'Bananas']\n"
          ]
        }
      ]
    },
    {
      "cell_type": "markdown",
      "source": [
        "*Sorting a list*"
      ],
      "metadata": {
        "id": "NKg1DUBVafAX"
      }
    },
    {
      "cell_type": "code",
      "source": [
        "fruits_list = ['Apple', 'Tomatoes', 'Oranges', 'Bananas']\n",
        "fruits_list.sort()\n",
        "print(fruits_list)"
      ],
      "metadata": {
        "colab": {
          "base_uri": "https://localhost:8080/"
        },
        "id": "VCTnquQNag1M",
        "outputId": "e73cab9e-b0a0-4137-9c33-79ec947870cd"
      },
      "execution_count": 42,
      "outputs": [
        {
          "output_type": "stream",
          "name": "stdout",
          "text": [
            "['Apple', 'Bananas', 'Oranges', 'Tomatoes']\n"
          ]
        }
      ]
    },
    {
      "cell_type": "markdown",
      "source": [
        "*Reverse sort the items in list*"
      ],
      "metadata": {
        "id": "ZhHUpnDzbHj4"
      }
    },
    {
      "cell_type": "code",
      "source": [
        "fruits_list = ['Apple', 'Tomatoes', 'Oranges', 'Bananas']\n",
        "fruits_list.reverse()\n",
        "print(fruits_list)"
      ],
      "metadata": {
        "colab": {
          "base_uri": "https://localhost:8080/"
        },
        "id": "bS1lkpuHbKTw",
        "outputId": "40242c17-d517-4d60-a550-bb660b905ac9"
      },
      "execution_count": 43,
      "outputs": [
        {
          "output_type": "stream",
          "name": "stdout",
          "text": [
            "['Bananas', 'Oranges', 'Tomatoes', 'Apple']\n"
          ]
        }
      ]
    },
    {
      "cell_type": "markdown",
      "source": [
        "*Delete an item at specified index using del*"
      ],
      "metadata": {
        "id": "zcupWt-qbVbq"
      }
    },
    {
      "cell_type": "code",
      "source": [
        "fruits_list = ['Apple', 'Tomatoes', 'Oranges', 'Bananas']\n",
        "del fruits_list[2]\n",
        "print(fruits_list)"
      ],
      "metadata": {
        "colab": {
          "base_uri": "https://localhost:8080/"
        },
        "id": "LhB8MDs7bYsH",
        "outputId": "88daf4d1-a934-40e3-8099-a2ccec97ba9b"
      },
      "execution_count": 44,
      "outputs": [
        {
          "output_type": "stream",
          "name": "stdout",
          "text": [
            "['Apple', 'Tomatoes', 'Bananas']\n"
          ]
        }
      ]
    },
    {
      "cell_type": "markdown",
      "source": [
        "*Combine lists using + *"
      ],
      "metadata": {
        "id": "zoUemnkvbsOT"
      }
    },
    {
      "cell_type": "code",
      "source": [
        "fruits_list = ['Apple', 'Tomatoes', 'Oranges', 'Bananas']\n",
        "grocery_list = ['Rice', 'Dal', 'Salt']\n",
        "to_do_list = fruits_list + grocery_list\n",
        "print(to_do_list)"
      ],
      "metadata": {
        "colab": {
          "base_uri": "https://localhost:8080/"
        },
        "id": "AnayT_Jcbvml",
        "outputId": "5edbd906-8762-45c6-be67-38c7fc6f2df0"
      },
      "execution_count": 46,
      "outputs": [
        {
          "output_type": "stream",
          "name": "stdout",
          "text": [
            "['Apple', 'Tomatoes', 'Oranges', 'Bananas', 'Rice', 'Dal', 'Salt']\n"
          ]
        }
      ]
    },
    {
      "cell_type": "markdown",
      "source": [
        "*Get length of todo list*"
      ],
      "metadata": {
        "id": "wUqGDXr3b6H0"
      }
    },
    {
      "cell_type": "code",
      "source": [
        "fruits_list = ['Apple', 'Tomatoes', 'Oranges', 'Bananas']\n",
        "grocery_list = ['Rice', 'Dal', 'Salt']\n",
        "to_do_list = fruits_list + grocery_list\n",
        "print(len(to_do_list))"
      ],
      "metadata": {
        "colab": {
          "base_uri": "https://localhost:8080/"
        },
        "id": "wW0eM89ib-pn",
        "outputId": "ad41350a-ec83-4674-c20e-45cdf614d84c"
      },
      "execution_count": 47,
      "outputs": [
        {
          "output_type": "stream",
          "name": "stdout",
          "text": [
            "7\n"
          ]
        }
      ]
    },
    {
      "cell_type": "markdown",
      "source": [
        "*Get max and min values in the list*"
      ],
      "metadata": {
        "id": "3nbWMMExcEAv"
      }
    },
    {
      "cell_type": "code",
      "source": [
        "fruits_list = ['Apple', 'Tomatoes', 'Oranges', 'Bananas']\n",
        "grocery_list = ['Rice', 'Dal', 'Salt']\n",
        "to_do_list = fruits_list + grocery_list\n",
        "print(max(to_do_list))\n",
        "print(min(to_do_list))"
      ],
      "metadata": {
        "colab": {
          "base_uri": "https://localhost:8080/"
        },
        "id": "YJTKbAqMcHTs",
        "outputId": "b134239a-0856-4077-a81e-2f191a47f504"
      },
      "execution_count": 48,
      "outputs": [
        {
          "output_type": "stream",
          "name": "stdout",
          "text": [
            "Tomatoes\n",
            "Apple\n"
          ]
        }
      ]
    },
    {
      "cell_type": "markdown",
      "source": [
        "***Tuples***"
      ],
      "metadata": {
        "id": "o3uDKF_lcUWo"
      }
    },
    {
      "cell_type": "code",
      "source": [
        "num_tuple = (3, 1, 4, 1, 5, 9)\n",
        "print(num_tuple)"
      ],
      "metadata": {
        "colab": {
          "base_uri": "https://localhost:8080/"
        },
        "id": "yBGUaI3ucWk_",
        "outputId": "e41a5231-0bba-4ba4-cc1a-ba5f29a29a76"
      },
      "execution_count": 49,
      "outputs": [
        {
          "output_type": "stream",
          "name": "stdout",
          "text": [
            "(3, 1, 4, 1, 5, 9)\n"
          ]
        }
      ]
    },
    {
      "cell_type": "markdown",
      "source": [
        "*Converting tuple to a list*"
      ],
      "metadata": {
        "id": "AjO4sxYEczrx"
      }
    },
    {
      "cell_type": "code",
      "source": [
        "num_tuple = (3, 1, 4, 1, 5, 9)\n",
        "new_tuple = list(num_tuple)\n",
        "print(new_tuple)"
      ],
      "metadata": {
        "colab": {
          "base_uri": "https://localhost:8080/"
        },
        "id": "U7FOWNq6c2oY",
        "outputId": "10118585-0b8b-4af4-8326-28ecc1fc100a"
      },
      "execution_count": 51,
      "outputs": [
        {
          "output_type": "stream",
          "name": "stdout",
          "text": [
            "[3, 1, 4, 1, 5, 9]\n"
          ]
        }
      ]
    },
    {
      "cell_type": "markdown",
      "source": [
        "*Converting a list to a tuple*"
      ],
      "metadata": {
        "id": "JNHKQ-Wlc_Q0"
      }
    },
    {
      "cell_type": "code",
      "source": [
        "fruits_list = ['Apple', 'Tomatoes', 'Oranges', 'Bananas']\n",
        "new_list = tuple(fruits_list)\n",
        "print(new_list)"
      ],
      "metadata": {
        "colab": {
          "base_uri": "https://localhost:8080/"
        },
        "id": "CY0xMOE_dCAM",
        "outputId": "d7ba380b-b9c2-45a2-bb5e-da582028cab2"
      },
      "execution_count": 52,
      "outputs": [
        {
          "output_type": "stream",
          "name": "stdout",
          "text": [
            "('Apple', 'Tomatoes', 'Oranges', 'Bananas')\n"
          ]
        }
      ]
    },
    {
      "cell_type": "markdown",
      "source": [
        "*Get len, max, min in a tuple*"
      ],
      "metadata": {
        "id": "2atUMQ8YKtOq"
      }
    },
    {
      "cell_type": "code",
      "source": [
        "num_tuple = (3, 1, 4, 1, 5, 9)\n",
        "print(len(num_tuple))\n",
        "print(max(num_tuple))\n",
        "print(min(num_tuple))"
      ],
      "metadata": {
        "colab": {
          "base_uri": "https://localhost:8080/"
        },
        "id": "eqFIk1kIKz_E",
        "outputId": "8ff3de21-7801-45b5-8bf5-70163a959ff0"
      },
      "execution_count": 53,
      "outputs": [
        {
          "output_type": "stream",
          "name": "stdout",
          "text": [
            "6\n",
            "9\n",
            "1\n"
          ]
        }
      ]
    },
    {
      "cell_type": "markdown",
      "source": [
        "*Dictionary or Map*"
      ],
      "metadata": {
        "id": "7OCjRPLQL6gp"
      }
    },
    {
      "cell_type": "code",
      "source": [
        "books = {\n",
        "    \"Harper Lee\": \"To Kill a Mockingbird\",\n",
        "    \"Dan Brown\": \"The Da Vinci Code\",\n",
        "    \"Jane Austen\": \"Pride and Prejudice\",\n",
        "    \"Alex Michaelides\" : \"1984\"\n",
        "}\n",
        "print(books['Dan Brown'])"
      ],
      "metadata": {
        "colab": {
          "base_uri": "https://localhost:8080/"
        },
        "id": "AZQyiryrL93x",
        "outputId": "cba3a7c2-da9e-4bd9-cf43-45ba94ff802d"
      },
      "execution_count": 55,
      "outputs": [
        {
          "output_type": "stream",
          "name": "stdout",
          "text": [
            "The Da Vinci Code\n"
          ]
        }
      ]
    },
    {
      "cell_type": "markdown",
      "source": [
        "*Delete an entry in Dictionary*"
      ],
      "metadata": {
        "id": "w4-89L6fMkIT"
      }
    },
    {
      "cell_type": "code",
      "source": [
        "del(books['Alex Michaelides'])\n",
        "print(books)"
      ],
      "metadata": {
        "colab": {
          "base_uri": "https://localhost:8080/"
        },
        "id": "ezL_bJLnMnvh",
        "outputId": "b5df460e-9cb5-47ba-901c-6291ae866729"
      },
      "execution_count": 56,
      "outputs": [
        {
          "output_type": "stream",
          "name": "stdout",
          "text": [
            "{'Harper Lee': 'To Kill a Mockingbird', 'Dan Brown': 'The Da Vinci Code', 'Jane Austen': 'Pride and Prejudice'}\n"
          ]
        }
      ]
    },
    {
      "cell_type": "markdown",
      "source": [
        "*Replace an entry*"
      ],
      "metadata": {
        "id": "l0d_TR3EM1LB"
      }
    },
    {
      "cell_type": "code",
      "source": [
        "books = {\n",
        "    \"Harper Lee\": \"To Kill a Mockingbird\",\n",
        "    \"Dan Brown\": \"The Da Vinci Code\",\n",
        "    \"Jane Austen\": \"Pride and Prejudice\",\n",
        "    \"Alex Michaelides\" : \"1984\"\n",
        "}\n",
        "books['Jane Austen'] = 'Harry Potter'\n",
        "print(books['Jane Austen'])"
      ],
      "metadata": {
        "colab": {
          "base_uri": "https://localhost:8080/"
        },
        "id": "-HE1LDHVM5ww",
        "outputId": "cf93c3b9-153e-4669-9770-3b271e978443"
      },
      "execution_count": 1,
      "outputs": [
        {
          "output_type": "stream",
          "name": "stdout",
          "text": [
            "Harry Potter\n"
          ]
        }
      ]
    },
    {
      "cell_type": "markdown",
      "source": [
        "*Print the number of items in the dictionary*"
      ],
      "metadata": {
        "id": "WzdQxijx9rDB"
      }
    },
    {
      "cell_type": "code",
      "source": [
        "books = {\n",
        "    \"Harper Lee\": \"To Kill a Mockingbird\",\n",
        "    \"Dan Brown\": \"The Da Vinci Code\",\n",
        "    \"Jane Austen\": \"Pride and Prejudice\",\n",
        "    \"Alex Michaelides\" : \"1984\"\n",
        "}\n",
        "print(len(books))"
      ],
      "metadata": {
        "colab": {
          "base_uri": "https://localhost:8080/"
        },
        "id": "4SYcAEqJ9sD0",
        "outputId": "d6277a9b-ce5d-45e7-f383-ec57b4745f71"
      },
      "execution_count": 2,
      "outputs": [
        {
          "output_type": "stream",
          "name": "stdout",
          "text": [
            "4\n"
          ]
        }
      ]
    },
    {
      "cell_type": "markdown",
      "source": [
        "*Get the value for the passed key and to get a list of dictionary keys and values*"
      ],
      "metadata": {
        "id": "65877eNt93Y7"
      }
    },
    {
      "cell_type": "markdown",
      "source": [],
      "metadata": {
        "id": "cTTMDrka-KGj"
      }
    },
    {
      "cell_type": "code",
      "source": [
        "books = {\n",
        "    \"Harper Lee\": \"To Kill a Mockingbird\",\n",
        "    \"Dan Brown\": \"The Da Vinci Code\",\n",
        "    \"Jane Austen\": \"Pride and Prejudice\",\n",
        "    \"Alex Michaelides\" : \"1984\"\n",
        "}\n",
        "print(books.get('Dan Brown'))\n",
        "print(books.keys())\n",
        "print(books.values())"
      ],
      "metadata": {
        "colab": {
          "base_uri": "https://localhost:8080/"
        },
        "id": "e7rozSEq94Ok",
        "outputId": "68d4b217-116b-4a70-af58-5326ecf45cb4"
      },
      "execution_count": 5,
      "outputs": [
        {
          "output_type": "stream",
          "name": "stdout",
          "text": [
            "The Da Vinci Code\n",
            "dict_keys(['Harper Lee', 'Dan Brown', 'Jane Austen', 'Alex Michaelides'])\n",
            "dict_values(['To Kill a Mockingbird', 'The Da Vinci Code', 'Pride and Prejudice', '1984'])\n"
          ]
        }
      ]
    },
    {
      "cell_type": "markdown",
      "source": [
        "***CONDITIONALS***"
      ],
      "metadata": {
        "id": "zyiJFsTeGiF7"
      }
    },
    {
      "cell_type": "markdown",
      "source": [
        "*If statements*"
      ],
      "metadata": {
        "id": "1gfG6PwKGo0l"
      }
    },
    {
      "cell_type": "code",
      "source": [
        "age = 25\n",
        "if age > 18 :\n",
        "    print('You can Vote!')"
      ],
      "metadata": {
        "colab": {
          "base_uri": "https://localhost:8080/"
        },
        "id": "AdoRA8fLGjXT",
        "outputId": "a8557b5b-7d85-44a7-b73e-bc7ce3d4e6db"
      },
      "execution_count": 1,
      "outputs": [
        {
          "output_type": "stream",
          "name": "stdout",
          "text": [
            "You can Vote!\n"
          ]
        }
      ]
    },
    {
      "cell_type": "markdown",
      "source": [
        "*If else statements*"
      ],
      "metadata": {
        "id": "tcSKuDjoG1xK"
      }
    },
    {
      "cell_type": "code",
      "source": [
        "age = 25\n",
        "if age > 18 :\n",
        "    print('You can vote!')\n",
        "else:\n",
        "    print('You have to wait!')"
      ],
      "metadata": {
        "colab": {
          "base_uri": "https://localhost:8080/"
        },
        "id": "fAkf6ObgG6GW",
        "outputId": "445979f2-d9c6-4dcd-e33f-3c9e784f2bee"
      },
      "execution_count": 2,
      "outputs": [
        {
          "output_type": "stream",
          "name": "stdout",
          "text": [
            "You can vote!\n"
          ]
        }
      ]
    },
    {
      "cell_type": "markdown",
      "source": [
        "*elif statements*"
      ],
      "metadata": {
        "id": "B9wczGOPHb0V"
      }
    },
    {
      "cell_type": "code",
      "source": [
        "age = 16\n",
        "if age >= 18 :\n",
        "    print('You can vote!')\n",
        "elif age >= 16:\n",
        "    print('You are eligible to sign-up')\n",
        "else :\n",
        "    print('You cannot vote!')"
      ],
      "metadata": {
        "colab": {
          "base_uri": "https://localhost:8080/"
        },
        "id": "I2dleZH8HhIU",
        "outputId": "c69d4eea-587d-484e-98e7-027455e99001"
      },
      "execution_count": 3,
      "outputs": [
        {
          "output_type": "stream",
          "name": "stdout",
          "text": [
            "You are eligible to sign-up\n"
          ]
        }
      ]
    },
    {
      "cell_type": "markdown",
      "source": [
        "*Logical Operators*"
      ],
      "metadata": {
        "id": "2QABft9YH88V"
      }
    },
    {
      "cell_type": "code",
      "source": [
        "age = 17\n",
        "if ((age >= 1) and (age <= 18)):\n",
        "    print(\"You will get 50% off on the ticket\")\n",
        "elif (age == 21) or (age >= 65):\n",
        "    print(\"You are not eligible for the offer \")\n",
        "else:\n",
        "    print(\"You will get 10% off on the ticket\")"
      ],
      "metadata": {
        "colab": {
          "base_uri": "https://localhost:8080/"
        },
        "id": "Rm9lRVKXH-g4",
        "outputId": "e21b2169-6773-44cf-9279-5ccc5b68617c"
      },
      "execution_count": 4,
      "outputs": [
        {
          "output_type": "stream",
          "name": "stdout",
          "text": [
            "You will get 50% off on the ticket\n"
          ]
        }
      ]
    },
    {
      "cell_type": "markdown",
      "source": [
        "*Range in for loop*"
      ],
      "metadata": {
        "id": "i_aOT9gqgIp7"
      }
    },
    {
      "cell_type": "code",
      "source": [
        "for i in range(2, 20):\n",
        "    if(i%2==0):\n",
        "        print(i , ' ', end=\"\")\n",
        "print('\\n')"
      ],
      "metadata": {
        "colab": {
          "base_uri": "https://localhost:8080/"
        },
        "id": "BEjOm_ZhgKux",
        "outputId": "92a501c9-1bd2-4b43-8ec0-d56d7a8146d4"
      },
      "execution_count": 1,
      "outputs": [
        {
          "output_type": "stream",
          "name": "stdout",
          "text": [
            "2  4  6  8  10  12  14  16  18  \n",
            "\n"
          ]
        }
      ]
    },
    {
      "cell_type": "markdown",
      "source": [
        "*Using loops for lists*"
      ],
      "metadata": {
        "id": "kJqAz_Jigp0m"
      }
    },
    {
      "cell_type": "code",
      "source": [
        "fruits_list = ['Apple', 'Tomatoes', 'Oranges', 'Bananas']\n",
        "for y in fruits_list:\n",
        "    print(y)"
      ],
      "metadata": {
        "colab": {
          "base_uri": "https://localhost:8080/"
        },
        "id": "diozCDt2gvYR",
        "outputId": "a8170361-3885-4491-91b4-dcaf04773f8c"
      },
      "execution_count": 2,
      "outputs": [
        {
          "output_type": "stream",
          "name": "stdout",
          "text": [
            "Apple\n",
            "Tomatoes\n",
            "Oranges\n",
            "Bananas\n"
          ]
        }
      ]
    },
    {
      "cell_type": "markdown",
      "source": [
        "*Defining a list of numbers to cycle through*"
      ],
      "metadata": {
        "id": "oyYJh4rXg_S-"
      }
    },
    {
      "cell_type": "code",
      "source": [
        "for x in [1,3,5,7,11]:\n",
        "    print(x, ' ', end=\"\")"
      ],
      "metadata": {
        "colab": {
          "base_uri": "https://localhost:8080/"
        },
        "id": "GCHtiCMlhBzA",
        "outputId": "93c16367-f552-4d55-8fe4-57316995bbf8"
      },
      "execution_count": 4,
      "outputs": [
        {
          "output_type": "stream",
          "name": "stdout",
          "text": [
            "1  3  5  7  11  "
          ]
        }
      ]
    },
    {
      "cell_type": "markdown",
      "source": [
        "*Looping through 2 lists*"
      ],
      "metadata": {
        "id": "bCJ2bZdmhY2E"
      }
    },
    {
      "cell_type": "code",
      "source": [
        "num_list =[[3,4,5],[30,40,50],[300,400,500]];\n",
        "\n",
        "for x in range(0,3):\n",
        "    for y in range(0,3):\n",
        "        print(num_list[x][y],' ', end=\"\")"
      ],
      "metadata": {
        "colab": {
          "base_uri": "https://localhost:8080/"
        },
        "id": "JTM6iW3KhaXJ",
        "outputId": "b7c85189-71de-4ee8-bf6d-705ac6cd656e"
      },
      "execution_count": 7,
      "outputs": [
        {
          "output_type": "stream",
          "name": "stdout",
          "text": [
            "3  4  5  30  40  50  300  400  500  "
          ]
        }
      ]
    },
    {
      "cell_type": "markdown",
      "source": [
        "***While loops***\n",
        "\n",
        "*Import statements to make special functionality available. These are called modules.*"
      ],
      "metadata": {
        "id": "V1pXotmdh6CY"
      }
    },
    {
      "cell_type": "code",
      "source": [
        "import random\n",
        "nums_random = random.randrange(0,50)\n",
        "\n",
        "while (nums_random != 12):\n",
        "    print(nums_random,' ', end=\"\")\n",
        "    nums_random = random.randrange(0,50)"
      ],
      "metadata": {
        "colab": {
          "base_uri": "https://localhost:8080/"
        },
        "id": "b_H2lCG3h-ES",
        "outputId": "2a8d37c2-b549-43d3-e2bf-357594b48f4d"
      },
      "execution_count": 11,
      "outputs": [
        {
          "output_type": "stream",
          "name": "stdout",
          "text": [
            "26  7  41  27  42  "
          ]
        }
      ]
    },
    {
      "cell_type": "markdown",
      "source": [
        "*Iterators in while loops are always defined before the loop*"
      ],
      "metadata": {
        "id": "NfpuakB0i3G9"
      }
    },
    {
      "cell_type": "code",
      "source": [
        "i = 0;\n",
        "while (i <= 15):\n",
        "    if(i%3 == 0):\n",
        "        print(i)\n",
        "    elif(i == 8):\n",
        "        break\n",
        "    else:\n",
        "        i += 1\n",
        "        continue\n",
        "\n",
        "    i += 1"
      ],
      "metadata": {
        "colab": {
          "base_uri": "https://localhost:8080/"
        },
        "id": "gNm0E4mUi-FN",
        "outputId": "b4348af7-217f-451a-9dcb-8ad66ddf3106"
      },
      "execution_count": 16,
      "outputs": [
        {
          "output_type": "stream",
          "name": "stdout",
          "text": [
            "0\n",
            "3\n",
            "6\n"
          ]
        }
      ]
    },
    {
      "cell_type": "markdown",
      "source": [
        "***FUNCTIONS***"
      ],
      "metadata": {
        "id": "irVaSmPYwxJJ"
      }
    },
    {
      "cell_type": "code",
      "source": [
        "def addNumbers(fNum, sNum):\n",
        "    sum = fNum + sNum\n",
        "    return sum\n",
        "\n",
        "print(addNumbers(2, 6))"
      ],
      "metadata": {
        "colab": {
          "base_uri": "https://localhost:8080/"
        },
        "id": "HFngApMuwycH",
        "outputId": "23a73831-cd25-4df7-f0c4-a627c0ecc686"
      },
      "execution_count": 18,
      "outputs": [
        {
          "output_type": "stream",
          "name": "stdout",
          "text": [
            "8\n"
          ]
        }
      ]
    },
    {
      "cell_type": "markdown",
      "source": [
        "*A variable defined before the function can be accessible anywhere*"
      ],
      "metadata": {
        "id": "GN1M6Hqm0vXO"
      }
    },
    {
      "cell_type": "code",
      "source": [
        "nums = 0;\n",
        "def subtract(fNum, sNum):\n",
        "    nums = fNum - sNum\n",
        "    return nums\n",
        "\n",
        "print(subtract(2, 6))"
      ],
      "metadata": {
        "colab": {
          "base_uri": "https://localhost:8080/"
        },
        "id": "_ONj4cPQ02J3",
        "outputId": "903b0a06-7a1a-42a4-b90e-7ad0f3d02a3d"
      },
      "execution_count": 19,
      "outputs": [
        {
          "output_type": "stream",
          "name": "stdout",
          "text": [
            "-4\n"
          ]
        }
      ]
    },
    {
      "cell_type": "markdown",
      "source": [
        "*STRINGS*"
      ],
      "metadata": {
        "id": "cjflAl_n1gLb"
      }
    },
    {
      "cell_type": "code",
      "source": [
        "test_string = \"the best time to plant a tree was 20 years ago. The second best time is now.\"\n",
        "\n",
        "# Retrieve the first 6 characters\n",
        "print(test_string[0:8])\n",
        "\n",
        "# Get the last 5 characters\n",
        "print(test_string[-5:])\n",
        "\n",
        "# Everything up to the last 6 characters\n",
        "print(test_string[:-7])\n",
        "\n",
        "# Concatenate part of a string to another\n",
        "print(test_string[:8] + \" known\")\n",
        "\n",
        "# Capitalizes the first letter\n",
        "print(test_string.capitalize())\n",
        "\n",
        "# Returns the index of the start of the string\n",
        "# case sensitive\n",
        "print(test_string.find(\"years\"))\n",
        "\n",
        "# Returns true if all characters are letters\n",
        "print(test_string.isalpha())\n",
        "\n",
        "# Returns true if all characters are numbers\n",
        "print(test_string.isalnum())\n",
        "\n",
        "# Returns the string length\n",
        "print(len(test_string))\n",
        "\n",
        "# Replace the first word with the second\n",
        "print(test_string.replace(\"now\", \"never\"))\n",
        "\n",
        "# Remove white space from front and end\n",
        "print(test_string.strip())\n",
        "\n",
        "# Split a string into a list based on the delimiter you provide\n",
        "quote_list = test_string.split(\" \")\n",
        "print(quote_list)"
      ],
      "metadata": {
        "colab": {
          "base_uri": "https://localhost:8080/"
        },
        "id": "3_XzV3rQ1hCv",
        "outputId": "b316b8e3-447b-4133-c883-4dc06173e01b"
      },
      "execution_count": 25,
      "outputs": [
        {
          "output_type": "stream",
          "name": "stdout",
          "text": [
            "the best\n",
            " now.\n",
            "the best time to plant a tree was 20 years ago. The second best time \n",
            "the best known\n",
            "The best time to plant a tree was 20 years ago. the second best time is now.\n",
            "37\n",
            "False\n",
            "False\n",
            "76\n",
            "the best time to plant a tree was 20 years ago. The second best time is never.\n",
            "the best time to plant a tree was 20 years ago. The second best time is now.\n",
            "['the', 'best', 'time', 'to', 'plant', 'a', 'tree', 'was', '20', 'years', 'ago.', 'The', 'second', 'best', 'time', 'is', 'now.']\n"
          ]
        }
      ]
    },
    {
      "cell_type": "markdown",
      "source": [
        "*String formatting*"
      ],
      "metadata": {
        "id": "d7D2GEWk3j0V"
      }
    },
    {
      "cell_type": "code",
      "source": [
        "\n",
        "print(\"%c is my %s letter and my number %d number is %.4f\" % ('X', 'favorite', 1, .81))"
      ],
      "metadata": {
        "colab": {
          "base_uri": "https://localhost:8080/"
        },
        "id": "QLNvFL5g3kzL",
        "outputId": "58719738-7b76-4869-bc4d-a4f4a23b06ac"
      },
      "execution_count": 27,
      "outputs": [
        {
          "output_type": "stream",
          "name": "stdout",
          "text": [
            "X is my favorite letter and my number 1 number is 0.8100\n"
          ]
        }
      ]
    },
    {
      "cell_type": "markdown",
      "source": [
        "_FILE I/O_"
      ],
      "metadata": {
        "id": "PMN-0ODT5Eqz"
      }
    },
    {
      "cell_type": "code",
      "source": [
        "from google.colab import files\n",
        "import os\n",
        "\n",
        "# Save a file\n",
        "with open('example.txt', 'w') as f:\n",
        "    f.write(\"Hello, World!\")\n",
        "\n",
        "#To download the file\n",
        "#files.download('example.txt')\n",
        "\n",
        "# Read from a file\n",
        "with open('example.txt', 'r') as f:\n",
        "    content = f.read()\n",
        "    print(content)\n",
        "\n",
        "#Write text to a file with a newline\n",
        "with open('example.txt', 'w', encoding='utf-8') as f:\n",
        "    content = f.write(\"Write me to the file\\n\")\n",
        "    print(content)\n",
        "\n",
        "#Opens a file for reading and writing\n",
        "with open(\"example.txt\", \"r+\", encoding=\"utf-8\") as file:\n",
        "    content = file.read()\n",
        "    print(content)\n",
        "    file.write(\"\\nAdditional text.\")\n",
        "\n",
        "# Delete the file\n",
        "os.remove(\"example.txt\")\n"
      ],
      "metadata": {
        "colab": {
          "base_uri": "https://localhost:8080/"
        },
        "id": "7uOC-Vro5Hie",
        "outputId": "135a8b41-0dff-4680-ce25-3fdea8fe1cb4"
      },
      "execution_count": 40,
      "outputs": [
        {
          "output_type": "stream",
          "name": "stdout",
          "text": [
            "Hello, World!\n",
            "21\n",
            "Write me to the file\n",
            "\n"
          ]
        }
      ]
    },
    {
      "cell_type": "markdown",
      "source": [
        "***CLASSES,OBJECTS,INHERITANCE***"
      ],
      "metadata": {
        "id": "ueraozNH7685"
      }
    },
    {
      "cell_type": "code",
      "source": [
        "class Rect:\n",
        "    __height = None\n",
        "    __length = None\n",
        "\n",
        "    def __init__(self, height, length):\n",
        "        self.__height = height\n",
        "        self.__length = length\n",
        "\n",
        "    def set_height(self, height):\n",
        "        self.__height = height\n",
        "\n",
        "    def set_length(self, length):\n",
        "        self.length = length\n",
        "\n",
        "    def get_height(self):\n",
        "        return str(self.__height)\n",
        "\n",
        "    def get_length(self):\n",
        "        return str(self.__length)\n",
        "\n",
        "    def toRect(self):\n",
        "      return \"The rectangle is {}cm in length and {} cm in height.\".format(self.__length, self.__height)\n",
        "\n",
        "new_rect = Rect('10','20')\n",
        "print(new_rect.toRect())\n",
        "\n",
        "class Cube(Rect):\n",
        "    def __init__(self, height, length, width):\n",
        "        super().__init__( height, length)  # Call the constructor of the base class\n",
        "        self.__width = width\n",
        "\n",
        "    def set_width(self, width):\n",
        "        self.width = width\n",
        "\n",
        "    def get_width(self):\n",
        "        return str(self.__width)\n",
        "\n",
        "    def toCube(self):\n",
        "      return \"The cube is {}cm in length and {} cm in height. The width of cube is {}cm\".format(self.get_length(), self.get_height(),self.get_width())\n",
        "\n",
        "new_cube = Cube(10,20,30)\n",
        "print(new_cube.toCube())\n",
        "\n"
      ],
      "metadata": {
        "colab": {
          "base_uri": "https://localhost:8080/"
        },
        "id": "k7mxpvhw78Gk",
        "outputId": "1386fea4-06a4-4a65-be12-26694969e40b"
      },
      "execution_count": 54,
      "outputs": [
        {
          "output_type": "stream",
          "name": "stdout",
          "text": [
            "The rectangle is 20cm in length and 10 cm in height.\n",
            "The cube is 20cm in length and 10 cm in height. The width of cube is 30cm\n"
          ]
        }
      ]
    },
    {
      "cell_type": "markdown",
      "source": [
        "***Polymorphism***"
      ],
      "metadata": {
        "id": "BbS2klyEPHIT"
      }
    },
    {
      "cell_type": "code",
      "source": [
        "class Shape():\n",
        "    def area(self):\n",
        "      raise NotImplementedError(\"Subclasses must implement this method\")\n",
        "\n",
        "class Rect(Shape):\n",
        "    _height = None\n",
        "    _length = None\n",
        "\n",
        "    def __init__(self, height, length):\n",
        "        self._height = height\n",
        "        self._length = length\n",
        "\n",
        "    def set_height(self, height):\n",
        "        self._height = height\n",
        "\n",
        "    def set_length(self, length):\n",
        "        self.length = length\n",
        "\n",
        "    def get_height(self):\n",
        "        return str(self._height)\n",
        "\n",
        "    def get_length(self):\n",
        "        return str(self._length)\n",
        "\n",
        "    def __str__(self):\n",
        "        return f\"Rectangle(length={self._length}, height={self._height})\"\n",
        "\n",
        "    def area(self):\n",
        "      return self._length * self._height\n",
        "\n",
        "class Cube(Rect, Shape):\n",
        "    def __init__(self, height, length, width):\n",
        "        super().__init__( height, length)  # Call the constructor of the base class\n",
        "        self._width = width\n",
        "\n",
        "    def set_width(self, width):\n",
        "        self.width = width\n",
        "\n",
        "    def get_width(self):\n",
        "        return str(self._width)\n",
        "\n",
        "    def area(self):\n",
        "      return self._length * self._height * self._width\n",
        "\n",
        "    def __str__(self):\n",
        "        return f\"Cube(length={self._length}, height={self._height}, width={self._width})\"\n",
        "\n",
        "def print_area(shape):\n",
        "      print(f\"The area of the {shape} is {shape.area()}\")\n",
        "\n",
        "rectangle = Rect(height=4, length=6)\n",
        "cube = Cube(length=6, height=6, width=4)\n",
        "\n",
        "print_area(rectangle)\n",
        "print_area(cube)"
      ],
      "metadata": {
        "colab": {
          "base_uri": "https://localhost:8080/"
        },
        "id": "CdqfJf_nPPHK",
        "outputId": "69f9dc00-8e4a-4074-baa7-96ba826108c1"
      },
      "execution_count": 55,
      "outputs": [
        {
          "output_type": "stream",
          "name": "stdout",
          "text": [
            "The area of the Rectangle(length=6, height=4) is 24\n",
            "The area of the Cube(length=6, height=6, width=4) is 144\n"
          ]
        }
      ]
    }
  ]
}