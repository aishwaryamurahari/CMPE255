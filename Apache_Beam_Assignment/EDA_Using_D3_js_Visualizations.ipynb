{
  "nbformat": 4,
  "nbformat_minor": 0,
  "metadata": {
    "colab": {
      "provenance": [],
      "gpuType": "L4"
    },
    "kernelspec": {
      "name": "python3",
      "display_name": "Python 3"
    },
    "language_info": {
      "name": "python"
    },
    "accelerator": "GPU"
  },
  "cells": [
    {
      "cell_type": "markdown",
      "source": [
        "EDA and D3 visualizations are two important concepts in data analysis and visualization:\n",
        "1. EDA: Is an approach to analyzing datasets to summarize their main characteristics, often using visual methods. It's a critical step in data analysis that helps analysts understand the data before making assumptions or fitting models. Key aspects of EDA include:\n",
        " . Summarizing the main characteristics of a dataset\n",
        " . Understanding variable distributions\n",
        " . Identifying patterns, trends, and anomalies\n",
        " . Detecting outliers and missing data\n",
        " . Formulating hypotheses for further investigation\n",
        "\n",
        "EDA often uses various statistical and graphical techniques such as histograms, box plots, scatter plots, and correlation matrices.\n",
        "\n",
        "2. D3 Visualizations: D3 stands for Data-Driven Documents. It's a powerful JavaScript library used for creating dynamic, interactive data visualizations in web browsers. Key features of D3:\n",
        " . Allows for binding arbitrary data to a Document Object Model (DOM)\n",
        " . Uses HTML, SVG, and CSS to create visualizations\n",
        " . Provides powerful visualization components and a data-driven approach to DOM manipulation\n",
        " . Enables creation of highly customizable charts, graphs, and interactive visualizations\n",
        " . Supports large datasets and dynamic behaviors for interaction and animation\n",
        "\n",
        "D3 is widely used for creating complex, interactive data visualizations such as:\n",
        "Interactive charts and graphs, Geographical maps, Network diagrams, Hierarchical tree structures, Custom visual representations of data"
      ],
      "metadata": {
        "id": "wRJC1UhADH0n"
      }
    },
    {
      "cell_type": "markdown",
      "source": [
        "\n",
        "Let's break this down into steps:\n",
        "\n",
        "\n",
        "## Step 1: Choosing a Complex Dataset"
      ],
      "metadata": {
        "id": "E96OfcPlEQH3"
      }
    },
    {
      "cell_type": "code",
      "source": [
        "!mkdir -p ~/.kaggle\n",
        "!cp kaggle.json ~/.kaggle/\n",
        "!chmod 600 ~/.kaggle/kaggle.json"
      ],
      "metadata": {
        "id": "SVuHPbgiJQu_"
      },
      "execution_count": 2,
      "outputs": []
    },
    {
      "cell_type": "code",
      "source": [
        "!kaggle datasets download -d retailrocket/ecommerce-dataset"
      ],
      "metadata": {
        "colab": {
          "base_uri": "https://localhost:8080/"
        },
        "id": "dBDE99N2JUn1",
        "outputId": "3816efa1-40e1-4b3b-e23e-f424961de709"
      },
      "execution_count": 3,
      "outputs": [
        {
          "output_type": "stream",
          "name": "stdout",
          "text": [
            "Dataset URL: https://www.kaggle.com/datasets/retailrocket/ecommerce-dataset\n",
            "License(s): CC-BY-NC-SA-4.0\n",
            "Downloading ecommerce-dataset.zip to /content\n",
            "100% 291M/291M [00:17<00:00, 21.5MB/s]\n",
            "100% 291M/291M [00:17<00:00, 17.2MB/s]\n"
          ]
        }
      ]
    },
    {
      "cell_type": "code",
      "source": [
        "!unzip ecommerce-dataset.zip"
      ],
      "metadata": {
        "colab": {
          "base_uri": "https://localhost:8080/"
        },
        "id": "0G6xFa5zJX7M",
        "outputId": "3186c89e-ab95-421d-e0b4-e9ac41293d98"
      },
      "execution_count": 4,
      "outputs": [
        {
          "output_type": "stream",
          "name": "stdout",
          "text": [
            "Archive:  ecommerce-dataset.zip\n",
            "  inflating: category_tree.csv       \n",
            "  inflating: events.csv              \n",
            "  inflating: item_properties_part1.csv  \n",
            "  inflating: item_properties_part2.csv  \n"
          ]
        }
      ]
    },
    {
      "cell_type": "code",
      "execution_count": 7,
      "metadata": {
        "colab": {
          "base_uri": "https://localhost:8080/"
        },
        "id": "ZEo5q7R0CujI",
        "outputId": "b63d7209-9eef-4792-eff5-8d0f08135958"
      },
      "outputs": [
        {
          "output_type": "stream",
          "name": "stdout",
          "text": [
            "       timestamp  visitorid event  itemid  transactionid\n",
            "0  1433221332117     257597  view  355908            NaN\n",
            "1  1433224214164     992329  view  248676            NaN\n",
            "2  1433221999827     111016  view  318965            NaN\n",
            "3  1433221955914     483717  view  253185            NaN\n",
            "4  1433221337106     951259  view  367447            NaN\n",
            "       timestamp  itemid    property                            value\n",
            "0  1435460400000  460429  categoryid                             1338\n",
            "1  1441508400000  206783         888          1116713 960601 n277.200\n",
            "2  1439089200000  395014         400  n552.000 639502 n720.000 424566\n",
            "3  1431226800000   59481         790                       n15360.000\n",
            "4  1431831600000  156781         917                           828513\n",
            "   categoryid  parentid\n",
            "0        1016     213.0\n",
            "1         809     169.0\n",
            "2         570       9.0\n",
            "3        1691     885.0\n",
            "4         536    1691.0\n"
          ]
        }
      ],
      "source": [
        "# Importing necessary libraries\n",
        "import pandas as pd\n",
        "import numpy as np\n",
        "import matplotlib.pyplot as plt\n",
        "import seaborn as sns\n",
        "\n",
        "# For HTML and D3.js integration\n",
        "from IPython.display import HTML, display\n",
        "\n",
        "# Load events data\n",
        "events = pd.read_csv('events.csv')\n",
        "\n",
        "# Load item properties data\n",
        "item_properties1 = pd.read_csv('item_properties_part1.csv')\n",
        "item_properties2 = pd.read_csv('item_properties_part2.csv')\n",
        "\n",
        "item_properties = pd.concat([item_properties1, item_properties2]) # Now item_properties contains both parts\n",
        "\n",
        "# Load category tree data\n",
        "category_tree = pd.read_csv('category_tree.csv')\n",
        "\n",
        "# Optional: Preview loaded data\n",
        "print(events.head())\n",
        "print(item_properties.head())\n",
        "print(category_tree.head())\n",
        "\n"
      ]
    },
    {
      "cell_type": "markdown",
      "source": [
        "\n",
        "## Step 2: Initial Data Exploration"
      ],
      "metadata": {
        "id": "_tm4TSRfEgz_"
      }
    },
    {
      "cell_type": "markdown",
      "source": [
        "Data Overview: Run the following commands to understand the dataset:"
      ],
      "metadata": {
        "id": "1RoBKw-jEsAt"
      }
    },
    {
      "cell_type": "code",
      "source": [
        "data = events\n",
        "# Check the shape of the data\n",
        "data.shape\n",
        "\n",
        "# Summary of the dataset\n",
        "data.info()\n",
        "\n",
        "# Check for missing values\n",
        "data.isnull().sum()\n",
        "\n",
        "# Statistical summary\n",
        "data.describe()\n"
      ],
      "metadata": {
        "colab": {
          "base_uri": "https://localhost:8080/",
          "height": 515
        },
        "id": "VikzrHUWEiOX",
        "outputId": "464fafcc-e975-453f-c0c8-f560a210dcc8"
      },
      "execution_count": 9,
      "outputs": [
        {
          "output_type": "stream",
          "name": "stdout",
          "text": [
            "<class 'pandas.core.frame.DataFrame'>\n",
            "RangeIndex: 2756101 entries, 0 to 2756100\n",
            "Data columns (total 5 columns):\n",
            " #   Column         Dtype  \n",
            "---  ------         -----  \n",
            " 0   timestamp      int64  \n",
            " 1   visitorid      int64  \n",
            " 2   event          object \n",
            " 3   itemid         int64  \n",
            " 4   transactionid  float64\n",
            "dtypes: float64(1), int64(3), object(1)\n",
            "memory usage: 105.1+ MB\n"
          ]
        },
        {
          "output_type": "execute_result",
          "data": {
            "text/plain": [
              "          timestamp     visitorid        itemid  transactionid\n",
              "count  2.756101e+06  2.756101e+06  2.756101e+06   22457.000000\n",
              "mean   1.436424e+12  7.019229e+05  2.349225e+05    8826.497796\n",
              "std    3.366312e+09  4.056875e+05  1.341954e+05    5098.996290\n",
              "min    1.430622e+12  0.000000e+00  3.000000e+00       0.000000\n",
              "25%    1.433478e+12  3.505660e+05  1.181200e+05    4411.000000\n",
              "50%    1.436453e+12  7.020600e+05  2.360670e+05    8813.000000\n",
              "75%    1.439225e+12  1.053437e+06  3.507150e+05   13224.000000\n",
              "max    1.442545e+12  1.407579e+06  4.668670e+05   17671.000000"
            ],
            "text/html": [
              "\n",
              "  <div id=\"df-7f99238c-a06b-4715-870f-390dee5944fb\" class=\"colab-df-container\">\n",
              "    <div>\n",
              "<style scoped>\n",
              "    .dataframe tbody tr th:only-of-type {\n",
              "        vertical-align: middle;\n",
              "    }\n",
              "\n",
              "    .dataframe tbody tr th {\n",
              "        vertical-align: top;\n",
              "    }\n",
              "\n",
              "    .dataframe thead th {\n",
              "        text-align: right;\n",
              "    }\n",
              "</style>\n",
              "<table border=\"1\" class=\"dataframe\">\n",
              "  <thead>\n",
              "    <tr style=\"text-align: right;\">\n",
              "      <th></th>\n",
              "      <th>timestamp</th>\n",
              "      <th>visitorid</th>\n",
              "      <th>itemid</th>\n",
              "      <th>transactionid</th>\n",
              "    </tr>\n",
              "  </thead>\n",
              "  <tbody>\n",
              "    <tr>\n",
              "      <th>count</th>\n",
              "      <td>2.756101e+06</td>\n",
              "      <td>2.756101e+06</td>\n",
              "      <td>2.756101e+06</td>\n",
              "      <td>22457.000000</td>\n",
              "    </tr>\n",
              "    <tr>\n",
              "      <th>mean</th>\n",
              "      <td>1.436424e+12</td>\n",
              "      <td>7.019229e+05</td>\n",
              "      <td>2.349225e+05</td>\n",
              "      <td>8826.497796</td>\n",
              "    </tr>\n",
              "    <tr>\n",
              "      <th>std</th>\n",
              "      <td>3.366312e+09</td>\n",
              "      <td>4.056875e+05</td>\n",
              "      <td>1.341954e+05</td>\n",
              "      <td>5098.996290</td>\n",
              "    </tr>\n",
              "    <tr>\n",
              "      <th>min</th>\n",
              "      <td>1.430622e+12</td>\n",
              "      <td>0.000000e+00</td>\n",
              "      <td>3.000000e+00</td>\n",
              "      <td>0.000000</td>\n",
              "    </tr>\n",
              "    <tr>\n",
              "      <th>25%</th>\n",
              "      <td>1.433478e+12</td>\n",
              "      <td>3.505660e+05</td>\n",
              "      <td>1.181200e+05</td>\n",
              "      <td>4411.000000</td>\n",
              "    </tr>\n",
              "    <tr>\n",
              "      <th>50%</th>\n",
              "      <td>1.436453e+12</td>\n",
              "      <td>7.020600e+05</td>\n",
              "      <td>2.360670e+05</td>\n",
              "      <td>8813.000000</td>\n",
              "    </tr>\n",
              "    <tr>\n",
              "      <th>75%</th>\n",
              "      <td>1.439225e+12</td>\n",
              "      <td>1.053437e+06</td>\n",
              "      <td>3.507150e+05</td>\n",
              "      <td>13224.000000</td>\n",
              "    </tr>\n",
              "    <tr>\n",
              "      <th>max</th>\n",
              "      <td>1.442545e+12</td>\n",
              "      <td>1.407579e+06</td>\n",
              "      <td>4.668670e+05</td>\n",
              "      <td>17671.000000</td>\n",
              "    </tr>\n",
              "  </tbody>\n",
              "</table>\n",
              "</div>\n",
              "    <div class=\"colab-df-buttons\">\n",
              "\n",
              "  <div class=\"colab-df-container\">\n",
              "    <button class=\"colab-df-convert\" onclick=\"convertToInteractive('df-7f99238c-a06b-4715-870f-390dee5944fb')\"\n",
              "            title=\"Convert this dataframe to an interactive table.\"\n",
              "            style=\"display:none;\">\n",
              "\n",
              "  <svg xmlns=\"http://www.w3.org/2000/svg\" height=\"24px\" viewBox=\"0 -960 960 960\">\n",
              "    <path d=\"M120-120v-720h720v720H120Zm60-500h600v-160H180v160Zm220 220h160v-160H400v160Zm0 220h160v-160H400v160ZM180-400h160v-160H180v160Zm440 0h160v-160H620v160ZM180-180h160v-160H180v160Zm440 0h160v-160H620v160Z\"/>\n",
              "  </svg>\n",
              "    </button>\n",
              "\n",
              "  <style>\n",
              "    .colab-df-container {\n",
              "      display:flex;\n",
              "      gap: 12px;\n",
              "    }\n",
              "\n",
              "    .colab-df-convert {\n",
              "      background-color: #E8F0FE;\n",
              "      border: none;\n",
              "      border-radius: 50%;\n",
              "      cursor: pointer;\n",
              "      display: none;\n",
              "      fill: #1967D2;\n",
              "      height: 32px;\n",
              "      padding: 0 0 0 0;\n",
              "      width: 32px;\n",
              "    }\n",
              "\n",
              "    .colab-df-convert:hover {\n",
              "      background-color: #E2EBFA;\n",
              "      box-shadow: 0px 1px 2px rgba(60, 64, 67, 0.3), 0px 1px 3px 1px rgba(60, 64, 67, 0.15);\n",
              "      fill: #174EA6;\n",
              "    }\n",
              "\n",
              "    .colab-df-buttons div {\n",
              "      margin-bottom: 4px;\n",
              "    }\n",
              "\n",
              "    [theme=dark] .colab-df-convert {\n",
              "      background-color: #3B4455;\n",
              "      fill: #D2E3FC;\n",
              "    }\n",
              "\n",
              "    [theme=dark] .colab-df-convert:hover {\n",
              "      background-color: #434B5C;\n",
              "      box-shadow: 0px 1px 3px 1px rgba(0, 0, 0, 0.15);\n",
              "      filter: drop-shadow(0px 1px 2px rgba(0, 0, 0, 0.3));\n",
              "      fill: #FFFFFF;\n",
              "    }\n",
              "  </style>\n",
              "\n",
              "    <script>\n",
              "      const buttonEl =\n",
              "        document.querySelector('#df-7f99238c-a06b-4715-870f-390dee5944fb button.colab-df-convert');\n",
              "      buttonEl.style.display =\n",
              "        google.colab.kernel.accessAllowed ? 'block' : 'none';\n",
              "\n",
              "      async function convertToInteractive(key) {\n",
              "        const element = document.querySelector('#df-7f99238c-a06b-4715-870f-390dee5944fb');\n",
              "        const dataTable =\n",
              "          await google.colab.kernel.invokeFunction('convertToInteractive',\n",
              "                                                    [key], {});\n",
              "        if (!dataTable) return;\n",
              "\n",
              "        const docLinkHtml = 'Like what you see? Visit the ' +\n",
              "          '<a target=\"_blank\" href=https://colab.research.google.com/notebooks/data_table.ipynb>data table notebook</a>'\n",
              "          + ' to learn more about interactive tables.';\n",
              "        element.innerHTML = '';\n",
              "        dataTable['output_type'] = 'display_data';\n",
              "        await google.colab.output.renderOutput(dataTable, element);\n",
              "        const docLink = document.createElement('div');\n",
              "        docLink.innerHTML = docLinkHtml;\n",
              "        element.appendChild(docLink);\n",
              "      }\n",
              "    </script>\n",
              "  </div>\n",
              "\n",
              "\n",
              "<div id=\"df-b817004c-31da-4699-947f-52d0b7aa0639\">\n",
              "  <button class=\"colab-df-quickchart\" onclick=\"quickchart('df-b817004c-31da-4699-947f-52d0b7aa0639')\"\n",
              "            title=\"Suggest charts\"\n",
              "            style=\"display:none;\">\n",
              "\n",
              "<svg xmlns=\"http://www.w3.org/2000/svg\" height=\"24px\"viewBox=\"0 0 24 24\"\n",
              "     width=\"24px\">\n",
              "    <g>\n",
              "        <path d=\"M19 3H5c-1.1 0-2 .9-2 2v14c0 1.1.9 2 2 2h14c1.1 0 2-.9 2-2V5c0-1.1-.9-2-2-2zM9 17H7v-7h2v7zm4 0h-2V7h2v10zm4 0h-2v-4h2v4z\"/>\n",
              "    </g>\n",
              "</svg>\n",
              "  </button>\n",
              "\n",
              "<style>\n",
              "  .colab-df-quickchart {\n",
              "      --bg-color: #E8F0FE;\n",
              "      --fill-color: #1967D2;\n",
              "      --hover-bg-color: #E2EBFA;\n",
              "      --hover-fill-color: #174EA6;\n",
              "      --disabled-fill-color: #AAA;\n",
              "      --disabled-bg-color: #DDD;\n",
              "  }\n",
              "\n",
              "  [theme=dark] .colab-df-quickchart {\n",
              "      --bg-color: #3B4455;\n",
              "      --fill-color: #D2E3FC;\n",
              "      --hover-bg-color: #434B5C;\n",
              "      --hover-fill-color: #FFFFFF;\n",
              "      --disabled-bg-color: #3B4455;\n",
              "      --disabled-fill-color: #666;\n",
              "  }\n",
              "\n",
              "  .colab-df-quickchart {\n",
              "    background-color: var(--bg-color);\n",
              "    border: none;\n",
              "    border-radius: 50%;\n",
              "    cursor: pointer;\n",
              "    display: none;\n",
              "    fill: var(--fill-color);\n",
              "    height: 32px;\n",
              "    padding: 0;\n",
              "    width: 32px;\n",
              "  }\n",
              "\n",
              "  .colab-df-quickchart:hover {\n",
              "    background-color: var(--hover-bg-color);\n",
              "    box-shadow: 0 1px 2px rgba(60, 64, 67, 0.3), 0 1px 3px 1px rgba(60, 64, 67, 0.15);\n",
              "    fill: var(--button-hover-fill-color);\n",
              "  }\n",
              "\n",
              "  .colab-df-quickchart-complete:disabled,\n",
              "  .colab-df-quickchart-complete:disabled:hover {\n",
              "    background-color: var(--disabled-bg-color);\n",
              "    fill: var(--disabled-fill-color);\n",
              "    box-shadow: none;\n",
              "  }\n",
              "\n",
              "  .colab-df-spinner {\n",
              "    border: 2px solid var(--fill-color);\n",
              "    border-color: transparent;\n",
              "    border-bottom-color: var(--fill-color);\n",
              "    animation:\n",
              "      spin 1s steps(1) infinite;\n",
              "  }\n",
              "\n",
              "  @keyframes spin {\n",
              "    0% {\n",
              "      border-color: transparent;\n",
              "      border-bottom-color: var(--fill-color);\n",
              "      border-left-color: var(--fill-color);\n",
              "    }\n",
              "    20% {\n",
              "      border-color: transparent;\n",
              "      border-left-color: var(--fill-color);\n",
              "      border-top-color: var(--fill-color);\n",
              "    }\n",
              "    30% {\n",
              "      border-color: transparent;\n",
              "      border-left-color: var(--fill-color);\n",
              "      border-top-color: var(--fill-color);\n",
              "      border-right-color: var(--fill-color);\n",
              "    }\n",
              "    40% {\n",
              "      border-color: transparent;\n",
              "      border-right-color: var(--fill-color);\n",
              "      border-top-color: var(--fill-color);\n",
              "    }\n",
              "    60% {\n",
              "      border-color: transparent;\n",
              "      border-right-color: var(--fill-color);\n",
              "    }\n",
              "    80% {\n",
              "      border-color: transparent;\n",
              "      border-right-color: var(--fill-color);\n",
              "      border-bottom-color: var(--fill-color);\n",
              "    }\n",
              "    90% {\n",
              "      border-color: transparent;\n",
              "      border-bottom-color: var(--fill-color);\n",
              "    }\n",
              "  }\n",
              "</style>\n",
              "\n",
              "  <script>\n",
              "    async function quickchart(key) {\n",
              "      const quickchartButtonEl =\n",
              "        document.querySelector('#' + key + ' button');\n",
              "      quickchartButtonEl.disabled = true;  // To prevent multiple clicks.\n",
              "      quickchartButtonEl.classList.add('colab-df-spinner');\n",
              "      try {\n",
              "        const charts = await google.colab.kernel.invokeFunction(\n",
              "            'suggestCharts', [key], {});\n",
              "      } catch (error) {\n",
              "        console.error('Error during call to suggestCharts:', error);\n",
              "      }\n",
              "      quickchartButtonEl.classList.remove('colab-df-spinner');\n",
              "      quickchartButtonEl.classList.add('colab-df-quickchart-complete');\n",
              "    }\n",
              "    (() => {\n",
              "      let quickchartButtonEl =\n",
              "        document.querySelector('#df-b817004c-31da-4699-947f-52d0b7aa0639 button');\n",
              "      quickchartButtonEl.style.display =\n",
              "        google.colab.kernel.accessAllowed ? 'block' : 'none';\n",
              "    })();\n",
              "  </script>\n",
              "</div>\n",
              "\n",
              "    </div>\n",
              "  </div>\n"
            ],
            "application/vnd.google.colaboratory.intrinsic+json": {
              "type": "dataframe",
              "summary": "{\n  \"name\": \"data\",\n  \"rows\": 8,\n  \"fields\": [\n    {\n      \"column\": \"timestamp\",\n      \"properties\": {\n        \"dtype\": \"number\",\n        \"std\": 664181090835.8025,\n        \"min\": 2756101.0,\n        \"max\": 1442545187788.0,\n        \"num_unique_values\": 8,\n        \"samples\": [\n          1436424488348.1033,\n          1436453013599.0,\n          2756101.0\n        ],\n        \"semantic_type\": \"\",\n        \"description\": \"\"\n      }\n    },\n    {\n      \"column\": \"visitorid\",\n      \"properties\": {\n        \"dtype\": \"number\",\n        \"std\": 858320.2726337845,\n        \"min\": 0.0,\n        \"max\": 2756101.0,\n        \"num_unique_values\": 8,\n        \"samples\": [\n          701922.8832292431,\n          702060.0,\n          2756101.0\n        ],\n        \"semantic_type\": \"\",\n        \"description\": \"\"\n      }\n    },\n    {\n      \"column\": \"itemid\",\n      \"properties\": {\n        \"dtype\": \"number\",\n        \"std\": 908052.7928183659,\n        \"min\": 3.0,\n        \"max\": 2756101.0,\n        \"num_unique_values\": 8,\n        \"samples\": [\n          234922.4783750668,\n          236067.0,\n          2756101.0\n        ],\n        \"semantic_type\": \"\",\n        \"description\": \"\"\n      }\n    },\n    {\n      \"column\": \"transactionid\",\n      \"properties\": {\n        \"dtype\": \"number\",\n        \"std\": 7391.37203337412,\n        \"min\": 0.0,\n        \"max\": 22457.0,\n        \"num_unique_values\": 8,\n        \"samples\": [\n          8826.497795787505,\n          8813.0,\n          22457.0\n        ],\n        \"semantic_type\": \"\",\n        \"description\": \"\"\n      }\n    }\n  ]\n}"
            }
          },
          "metadata": {},
          "execution_count": 9
        }
      ]
    },
    {
      "cell_type": "markdown",
      "source": [
        "Event Types and Time-based Features: Since this dataset likely contains time-based data (timestamps) and event types (like clicks, views, purchases), let’s extract time-based features and look at event distributions:"
      ],
      "metadata": {
        "id": "G0eAeGOBEs4j"
      }
    },
    {
      "cell_type": "code",
      "source": [
        "# Convert timestamp to datetime format\n",
        "data['timestamp'] = pd.to_datetime(data['timestamp'], unit='ms')\n",
        "\n",
        "# Extract hour, day, and month for analysis\n",
        "data['hour'] = data['timestamp'].dt.hour\n",
        "data['day'] = data['timestamp'].dt.day\n",
        "data['month'] = data['timestamp'].dt.month\n",
        "\n",
        "# Event type distribution\n",
        "data['event'].value_counts().plot(kind='bar', figsize=(10,6))\n",
        "plt.title('Distribution of Event Types')\n",
        "plt.show()\n"
      ],
      "metadata": {
        "colab": {
          "base_uri": "https://localhost:8080/",
          "height": 629
        },
        "id": "X21Ds1BeEu7D",
        "outputId": "c867d2f3-961c-401f-d4e4-5b5430ba5b01"
      },
      "execution_count": 11,
      "outputs": [
        {
          "output_type": "display_data",
          "data": {
            "text/plain": [
              "<Figure size 1000x600 with 1 Axes>"
            ],
            "image/png": "[encoded data removed]"
          },
          "metadata": {}
        }
      ]
    },
    {
      "cell_type": "markdown",
      "source": [
        "## Step 3: Basic EDA and Visualizations"
      ],
      "metadata": {
        "id": "ltYo3IdOFAHi"
      }
    },
    {
      "cell_type": "markdown",
      "source": [
        "Before moving to advanced D3.js visualizations, let’s do some traditional EDA.\n",
        "\n",
        "Product Popularity by Event Type: Let’s visualize how many views, clicks, and purchases each product receives."
      ],
      "metadata": {
        "id": "8Rkw34L2FChk"
      }
    },
    {
      "cell_type": "code",
      "source": [
        "import seaborn as sns\n",
        "import matplotlib.pyplot as plt\n",
        "\n",
        "# Group by product and event type\n",
        "product_event_counts = data.groupby(['itemid', 'event']).size().unstack(fill_value=0)\n",
        "\n",
        "# Visualize the top products by event type\n",
        "top_products = product_event_counts.nlargest(10, 'view')\n",
        "top_products.plot(kind='bar', stacked=True, figsize=(12,8))\n",
        "plt.title('Top 10 Products by Views, Purchases, and Cart Adds')\n",
        "plt.show()\n"
      ],
      "metadata": {
        "colab": {
          "base_uri": "https://localhost:8080/",
          "height": 757
        },
        "id": "WeYJZaBZFDQf",
        "outputId": "ee3d06c9-d22d-4271-ada4-1ab8b0266d10"
      },
      "execution_count": 12,
      "outputs": [
        {
          "output_type": "display_data",
          "data": {
            "text/plain": [
              "<Figure size 1200x800 with 1 Axes>"
            ],
            "image/png": "[encoded data removed]"
          },
          "metadata": {}
        }
      ]
    },
    {
      "cell_type": "markdown",
      "source": [
        "## Step 4: Advanced D3.js Visualizations"
      ],
      "metadata": {
        "id": "RMg2f-VBFGGJ"
      }
    },
    {
      "cell_type": "markdown",
      "source": [
        "Here’s where we step up the game with interactive D3.js visualizations. Let’s start by embedding a simple D3.js bar chart to represent product views. In Colab, we’ll use the HTML class to inject the D3.js code.\n",
        "\n",
        "### D3.js Bar Chart for Product Views"
      ],
      "metadata": {
        "id": "tOQPFQ1WFJbE"
      }
    },
    {
      "cell_type": "code",
      "source": [
        "%%html\n",
        "<!DOCTYPE html>\n",
        "<html lang=\"en\">\n",
        "<head>\n",
        "    <meta charset=\"UTF-8\">\n",
        "    <meta name=\"viewport\" content=\"width=device-width, initial-scale=1.0\">\n",
        "    <title>D3.js Bar Chart</title>\n",
        "    <script src=\"https://d3js.org/d3.v5.min.js\"></script>\n",
        "</head>\n",
        "<body>\n",
        "    <div id=\"chart\"></div>\n",
        "    <script>\n",
        "        var data = [30, 86, 168, 281, 303, 365];\n",
        "        var width = 500;\n",
        "        var barHeight = 20;\n",
        "\n",
        "        var chart = d3.select(\"#chart\")\n",
        "            .append(\"svg\")\n",
        "            .attr(\"width\", width)\n",
        "            .attr(\"height\", barHeight * data.length);\n",
        "\n",
        "        var bar = chart.selectAll(\"g\")\n",
        "            .data(data)\n",
        "            .enter().append(\"g\")\n",
        "            .attr(\"transform\", function(d, i) { return \"translate(0,\" + i * barHeight + \")\"; });\n",
        "\n",
        "        bar.append(\"rect\")\n",
        "            .attr(\"width\", function(d) { return d; })\n",
        "            .attr(\"height\", barHeight - 1);\n",
        "\n",
        "        bar.append(\"text\")\n",
        "            .attr(\"x\", function(d) { return d - 3; })\n",
        "            .attr(\"y\", barHeight / 2)\n",
        "            .attr(\"dy\", \".35em\")\n",
        "            .text(function(d) { return d; });\n",
        "    </script>\n",
        "</body>\n",
        "</html>\n"
      ],
      "metadata": {
        "colab": {
          "base_uri": "https://localhost:8080/",
          "height": 141
        },
        "id": "0fRlrUPuFHIe",
        "outputId": "13a1ac15-67d9-453c-bac8-7ce1ead8b72c"
      },
      "execution_count": 23,
      "outputs": [
        {
          "output_type": "display_data",
          "data": {
            "text/plain": [
              "<IPython.core.display.HTML object>"
            ],
            "text/html": [
              "<!DOCTYPE html>\n",
              "<html lang=\"en\">\n",
              "<head>\n",
              "    <meta charset=\"UTF-8\">\n",
              "    <meta name=\"viewport\" content=\"width=device-width, initial-scale=1.0\">\n",
              "    <title>D3.js Bar Chart</title>\n",
              "    <script src=\"https://d3js.org/d3.v5.min.js\"></script>\n",
              "</head>\n",
              "<body>\n",
              "    <div id=\"chart\"></div>\n",
              "    <script>\n",
              "        var data = [30, 86, 168, 281, 303, 365];\n",
              "        var width = 500;\n",
              "        var barHeight = 20;\n",
              "\n",
              "        var chart = d3.select(\"#chart\")\n",
              "            .append(\"svg\")\n",
              "            .attr(\"width\", width)\n",
              "            .attr(\"height\", barHeight * data.length);\n",
              "\n",
              "        var bar = chart.selectAll(\"g\")\n",
              "            .data(data)\n",
              "            .enter().append(\"g\")\n",
              "            .attr(\"transform\", function(d, i) { return \"translate(0,\" + i * barHeight + \")\"; });\n",
              "\n",
              "        bar.append(\"rect\")\n",
              "            .attr(\"width\", function(d) { return d; })\n",
              "            .attr(\"height\", barHeight - 1);\n",
              "\n",
              "        bar.append(\"text\")\n",
              "            .attr(\"x\", function(d) { return d - 3; })\n",
              "            .attr(\"y\", barHeight / 2)\n",
              "            .attr(\"dy\", \".35em\")\n",
              "            .text(function(d) { return d; });\n",
              "    </script>\n",
              "</body>\n",
              "</html>\n"
            ]
          },
          "metadata": {}
        }
      ]
    },
    {
      "cell_type": "markdown",
      "source": [
        "### Sunburst Chart for Hierarchical Product Categories\n",
        "A sunburst chart represents hierarchical data, which makes it perfect for the Retailrocket dataset, where we can organize products into categories and subcategories."
      ],
      "metadata": {
        "id": "z6ntXopZFa1p"
      }
    },
    {
      "cell_type": "code",
      "source": [
        "%%html\n",
        "<!DOCTYPE html>\n",
        "<html lang=\"en\">\n",
        "<head>\n",
        "    <meta charset=\"UTF-8\">\n",
        "    <meta name=\"viewport\" content=\"width=device-width, initial-scale=1.0\">\n",
        "    <title>D3.js Sunburst Chart</title>\n",
        "    <script src=\"https://d3js.org/d3.v5.min.js\"></script>\n",
        "    <script src=\"https://d3js.org/d3-hierarchy.v1.min.js\"></script>\n",
        "</head>\n",
        "<body>\n",
        "    <div id=\"chart\"></div>\n",
        "    <script>\n",
        "        var data = {\n",
        "          \"name\": \"Products\",\n",
        "          \"children\": [\n",
        "            {\"name\": \"Category 1\", \"children\": [\n",
        "              {\"name\": \"Product 1.1\", \"size\": 30},\n",
        "              {\"name\": \"Product 1.2\", \"size\": 86}\n",
        "            ]},\n",
        "            {\"name\": \"Category 2\", \"children\": [\n",
        "              {\"name\": \"Product 2.1\", \"size\": 168},\n",
        "              {\"name\": \"Product 2.2\", \"size\": 281}\n",
        "            ]},\n",
        "            {\"name\": \"Category 3\", \"children\": [\n",
        "              {\"name\": \"Product 3.1\", \"size\": 303},\n",
        "              {\"name\": \"Product 3.2\", \"size\": 365}\n",
        "            ]}\n",
        "          ]\n",
        "        };\n",
        "\n",
        "        var width = 500,\n",
        "            radius = width / 6;\n",
        "\n",
        "        var partition = d3.partition()\n",
        "            .size([2 * Math.PI, radius]);\n",
        "\n",
        "        var arc = d3.arc()\n",
        "            .startAngle(function(d) { return d.x0; })\n",
        "            .endAngle(function(d) { return d.x1; })\n",
        "            .innerRadius(function(d) { return d.y0; })\n",
        "            .outerRadius(function(d) { return d.y1; });\n",
        "\n",
        "        var root = d3.hierarchy(data)\n",
        "            .sum(function(d) { return d.size; });\n",
        "\n",
        "        partition(root);\n",
        "\n",
        "        var svg = d3.select(\"#chart\").append(\"svg\")\n",
        "            .attr(\"width\", width)\n",
        "            .attr(\"height\", width)\n",
        "            .append(\"g\")\n",
        "            .attr(\"transform\", \"translate(\" + width / 2 + \",\" + width / 2 + \")\");\n",
        "\n",
        "        svg.selectAll(\"path\")\n",
        "            .data(root.descendants())\n",
        "            .enter().append(\"path\")\n",
        "            .attr(\"d\", arc)\n",
        "            .style(\"fill\", function(d) { return d3.interpolateRainbow(d.depth / 5); })\n",
        "            .append(\"title\")\n",
        "            .text(function(d) { return d.data.name + \"\\\\n\" + d.value; });\n",
        "    </script>\n",
        "</body>\n",
        "</html>\n"
      ],
      "metadata": {
        "colab": {
          "base_uri": "https://localhost:8080/",
          "height": 521
        },
        "id": "nonio0H0FdB8",
        "outputId": "d0f60aad-4d5a-45e8-dfdf-7ec78a3be49b"
      },
      "execution_count": 24,
      "outputs": [
        {
          "output_type": "display_data",
          "data": {
            "text/plain": [
              "<IPython.core.display.HTML object>"
            ],
            "text/html": [
              "<!DOCTYPE html>\n",
              "<html lang=\"en\">\n",
              "<head>\n",
              "    <meta charset=\"UTF-8\">\n",
              "    <meta name=\"viewport\" content=\"width=device-width, initial-scale=1.0\">\n",
              "    <title>D3.js Sunburst Chart</title>\n",
              "    <script src=\"https://d3js.org/d3.v5.min.js\"></script>\n",
              "    <script src=\"https://d3js.org/d3-hierarchy.v1.min.js\"></script>\n",
              "</head>\n",
              "<body>\n",
              "    <div id=\"chart\"></div>\n",
              "    <script>\n",
              "        var data = {\n",
              "          \"name\": \"Products\",\n",
              "          \"children\": [\n",
              "            {\"name\": \"Category 1\", \"children\": [\n",
              "              {\"name\": \"Product 1.1\", \"size\": 30},\n",
              "              {\"name\": \"Product 1.2\", \"size\": 86}\n",
              "            ]},\n",
              "            {\"name\": \"Category 2\", \"children\": [\n",
              "              {\"name\": \"Product 2.1\", \"size\": 168},\n",
              "              {\"name\": \"Product 2.2\", \"size\": 281}\n",
              "            ]},\n",
              "            {\"name\": \"Category 3\", \"children\": [\n",
              "              {\"name\": \"Product 3.1\", \"size\": 303},\n",
              "              {\"name\": \"Product 3.2\", \"size\": 365}\n",
              "            ]}\n",
              "          ]\n",
              "        };\n",
              "\n",
              "        var width = 500,\n",
              "            radius = width / 6;\n",
              "\n",
              "        var partition = d3.partition()\n",
              "            .size([2 * Math.PI, radius]);\n",
              "\n",
              "        var arc = d3.arc()\n",
              "            .startAngle(function(d) { return d.x0; })\n",
              "            .endAngle(function(d) { return d.x1; })\n",
              "            .innerRadius(function(d) { return d.y0; })\n",
              "            .outerRadius(function(d) { return d.y1; });\n",
              "\n",
              "        var root = d3.hierarchy(data)\n",
              "            .sum(function(d) { return d.size; });\n",
              "\n",
              "        partition(root);\n",
              "\n",
              "        var svg = d3.select(\"#chart\").append(\"svg\")\n",
              "            .attr(\"width\", width)\n",
              "            .attr(\"height\", width)\n",
              "            .append(\"g\")\n",
              "            .attr(\"transform\", \"translate(\" + width / 2 + \",\" + width / 2 + \")\");\n",
              "\n",
              "        svg.selectAll(\"path\")\n",
              "            .data(root.descendants())\n",
              "            .enter().append(\"path\")\n",
              "            .attr(\"d\", arc)\n",
              "            .style(\"fill\", function(d) { return d3.interpolateRainbow(d.depth / 5); })\n",
              "            .append(\"title\")\n",
              "            .text(function(d) { return d.data.name + \"\\\\n\" + d.value; });\n",
              "    </script>\n",
              "</body>\n",
              "</html>\n"
            ]
          },
          "metadata": {}
        }
      ]
    },
    {
      "cell_type": "markdown",
      "source": [
        "Data Structure: The data object holds a hierarchy of products and their categories. This is where you can input your actual data from the Retailrocket dataset.\n",
        "\n",
        "Visualization: We create a partition layout in D3.js to represent the hierarchy in a circular sunburst form, with each arc representing a category or product."
      ],
      "metadata": {
        "id": "eWT3lfJDFdlh"
      }
    },
    {
      "cell_type": "markdown",
      "source": [
        "### Hierarchical Tree Map\n",
        "A tree map is another way to represent hierarchical data, but in a rectangle format. It’s great for visualizing proportions between different product categories and types."
      ],
      "metadata": {
        "id": "ihgTB5ljFwA9"
      }
    },
    {
      "cell_type": "code",
      "source": [
        "tree_map_html = \"\"\"\n",
        "<div id=\"tree_map\"></div>\n",
        "<script src=\"https://d3js.org/d3.v5.min.js\"></script>\n",
        "<script src=\"https://d3js.org/d3-hierarchy.v1.min.js\"></script>\n",
        "<script>\n",
        "  var data = {\n",
        "    \"name\": \"Products\",\n",
        "    \"children\": [\n",
        "      {\"name\": \"Category 1\", \"children\": [\n",
        "        {\"name\": \"Product 1.1\", \"size\": 30},\n",
        "        {\"name\": \"Product 1.2\", \"size\": 86}\n",
        "      ]},\n",
        "      {\"name\": \"Category 2\", \"children\": [\n",
        "        {\"name\": \"Product 2.1\", \"size\": 168},\n",
        "        {\"name\": \"Product 2.2\", \"size\": 281}\n",
        "      ]},\n",
        "      {\"name\": \"Category 3\", \"children\": [\n",
        "        {\"name\": \"Product 3.1\", \"size\": 303},\n",
        "        {\"name\": \"Product 3.2\", \"size\": 365}\n",
        "      ]}\n",
        "    ]\n",
        "  };\n",
        "\n",
        "  var width = 500,\n",
        "      height = 300;\n",
        "\n",
        "  var svg = d3.select(\"#tree_map\").append(\"svg\")\n",
        "      .attr(\"width\", width)\n",
        "      .attr(\"height\", height);\n",
        "\n",
        "  var root = d3.hierarchy(data)\n",
        "      .sum(function(d) { return d.size; });\n",
        "\n",
        "  d3.treemap()\n",
        "      .size([width, height])\n",
        "      .padding(1)\n",
        "      (root);\n",
        "\n",
        "  var cell = svg.selectAll(\"g\")\n",
        "      .data(root.leaves())\n",
        "      .enter().append(\"g\")\n",
        "      .attr(\"transform\", function(d) { return \"translate(\" + d.x0 + \",\" + d.y0 + \")\"; });\n",
        "\n",
        "  cell.append(\"rect\")\n",
        "      .attr(\"width\", function(d) { return d.x1 - d.x0; })\n",
        "      .attr(\"height\", function(d) { return d.y1 - d.y0; })\n",
        "      .style(\"fill\", function(d) { return d3.interpolateViridis(d.value / 365); });\n",
        "\n",
        "  cell.append(\"text\")\n",
        "      .attr(\"x\", 5)\n",
        "      .attr(\"y\", 15)\n",
        "      .text(function(d) { return d.data.name; });\n",
        "</script>\n",
        "\"\"\"\n",
        "\n",
        "display(HTML(tree_map_html))\n"
      ],
      "metadata": {
        "colab": {
          "base_uri": "https://localhost:8080/",
          "height": 321
        },
        "id": "qJyoP2tuFtnn",
        "outputId": "12e93b6e-9190-466f-f0e6-24c45030b028"
      },
      "execution_count": 15,
      "outputs": [
        {
          "output_type": "display_data",
          "data": {
            "text/plain": [
              "<IPython.core.display.HTML object>"
            ],
            "text/html": [
              "\n",
              "<div id=\"tree_map\"></div>\n",
              "<script src=\"https://d3js.org/d3.v5.min.js\"></script>\n",
              "<script src=\"https://d3js.org/d3-hierarchy.v1.min.js\"></script>\n",
              "<script>\n",
              "  var data = {\n",
              "    \"name\": \"Products\",\n",
              "    \"children\": [\n",
              "      {\"name\": \"Category 1\", \"children\": [\n",
              "        {\"name\": \"Product 1.1\", \"size\": 30},\n",
              "        {\"name\": \"Product 1.2\", \"size\": 86}\n",
              "      ]},\n",
              "      {\"name\": \"Category 2\", \"children\": [\n",
              "        {\"name\": \"Product 2.1\", \"size\": 168},\n",
              "        {\"name\": \"Product 2.2\", \"size\": 281}\n",
              "      ]},\n",
              "      {\"name\": \"Category 3\", \"children\": [\n",
              "        {\"name\": \"Product 3.1\", \"size\": 303},\n",
              "        {\"name\": \"Product 3.2\", \"size\": 365}\n",
              "      ]}\n",
              "    ]\n",
              "  };\n",
              "\n",
              "  var width = 500,\n",
              "      height = 300;\n",
              "\n",
              "  var svg = d3.select(\"#tree_map\").append(\"svg\")\n",
              "      .attr(\"width\", width)\n",
              "      .attr(\"height\", height);\n",
              "\n",
              "  var root = d3.hierarchy(data)\n",
              "      .sum(function(d) { return d.size; });\n",
              "\n",
              "  d3.treemap()\n",
              "      .size([width, height])\n",
              "      .padding(1)\n",
              "      (root);\n",
              "\n",
              "  var cell = svg.selectAll(\"g\")\n",
              "      .data(root.leaves())\n",
              "      .enter().append(\"g\")\n",
              "      .attr(\"transform\", function(d) { return \"translate(\" + d.x0 + \",\" + d.y0 + \")\"; });\n",
              "\n",
              "  cell.append(\"rect\")\n",
              "      .attr(\"width\", function(d) { return d.x1 - d.x0; })\n",
              "      .attr(\"height\", function(d) { return d.y1 - d.y0; })\n",
              "      .style(\"fill\", function(d) { return d3.interpolateViridis(d.value / 365); });\n",
              "\n",
              "  cell.append(\"text\")\n",
              "      .attr(\"x\", 5)\n",
              "      .attr(\"y\", 15)\n",
              "      .text(function(d) { return d.data.name; });\n",
              "</script>\n"
            ]
          },
          "metadata": {}
        }
      ]
    },
    {
      "cell_type": "markdown",
      "source": [
        "Tree Map Layout: This uses the d3.treemap() function to create a layout based on the size of each product/category.\n",
        "\n",
        "Colors and Text: The tree map is color-coded to show relative sizes, and labels are added to each rectangle."
      ],
      "metadata": {
        "id": "QwWvB8JXF3hr"
      }
    },
    {
      "cell_type": "markdown",
      "source": [
        "### Interactive Time-Series Line Chart\n",
        "This visualization helps track trends over time, such as user activity (views, purchases) by hour, day, or month."
      ],
      "metadata": {
        "id": "jB02ikxDF4xN"
      }
    },
    {
      "cell_type": "code",
      "source": [
        "time_series_html = \"\"\"\n",
        "<div id=\"time_chart\"></div>\n",
        "<script src=\"https://d3js.org/d3.v5.min.js\"></script>\n",
        "<script>\n",
        "  var data = [\n",
        "    {\"date\": \"2024-01-01\", \"views\": 100, \"purchases\": 30},\n",
        "    {\"date\": \"2024-01-02\", \"views\": 200, \"purchases\": 50},\n",
        "    {\"date\": \"2024-01-03\", \"views\": 300, \"purchases\": 80},\n",
        "    {\"date\": \"2024-01-04\", \"views\": 400, \"purchases\": 100}\n",
        "  ];\n",
        "\n",
        "  var parseDate = d3.timeParse(\"%Y-%m-%d\");\n",
        "\n",
        "  data.forEach(function(d) {\n",
        "    d.date = parseDate(d.date);\n",
        "  });\n",
        "\n",
        "  var width = 500, height = 300;\n",
        "\n",
        "  var svg = d3.select(\"#time_chart\").append(\"svg\")\n",
        "      .attr(\"width\", width)\n",
        "      .attr(\"height\", height);\n",
        "\n",
        "  var x = d3.scaleTime().range([0, width]),\n",
        "      y = d3.scaleLinear().range([height, 0]);\n",
        "\n",
        "  var line = d3.line()\n",
        "      .x(function(d) { return x(d.date); })\n",
        "      .y(function(d) { return y(d.views); });\n",
        "\n",
        "  var line2 = d3.line()\n",
        "      .x(function(d) { return x(d.date); })\n",
        "      .y(function(d) { return y(d.purchases); });\n",
        "\n",
        "  x.domain(d3.extent(data, function(d) { return d.date; }));\n",
        "  y.domain([0, d3.max(data, function(d) { return d.views; })]);\n",
        "\n",
        "  svg.append(\"path\")\n",
        "      .data([data])\n",
        "      .attr(\"class\", \"line\")\n",
        "      .attr(\"d\", line)\n",
        "      .style(\"stroke\", \"steelblue\");\n",
        "\n",
        "  svg.append(\"path\")\n",
        "      .data([data])\n",
        "      .attr(\"class\", \"line\")\n",
        "      .attr(\"d\", line2)\n",
        "      .style(\"stroke\", \"green\");\n",
        "\n",
        "  svg.append(\"g\")\n",
        "      .attr(\"transform\", \"translate(0,\" + height + \")\")\n",
        "      .call(d3.axisBottom(x));\n",
        "\n",
        "  svg.append(\"g\")\n",
        "      .call(d3.axisLeft(y));\n",
        "</script>\n",
        "\"\"\"\n",
        "\n",
        "display(HTML(time_series_html))\n"
      ],
      "metadata": {
        "colab": {
          "base_uri": "https://localhost:8080/",
          "height": 321
        },
        "id": "IHKhBJHqF-Ig",
        "outputId": "1aa089c6-e67f-4b90-b500-62996ccef4d8"
      },
      "execution_count": 25,
      "outputs": [
        {
          "output_type": "display_data",
          "data": {
            "text/plain": [
              "<IPython.core.display.HTML object>"
            ],
            "text/html": [
              "\n",
              "<div id=\"time_chart\"></div>\n",
              "<script src=\"https://d3js.org/d3.v5.min.js\"></script>\n",
              "<script>\n",
              "  var data = [\n",
              "    {\"date\": \"2024-01-01\", \"views\": 100, \"purchases\": 30},\n",
              "    {\"date\": \"2024-01-02\", \"views\": 200, \"purchases\": 50},\n",
              "    {\"date\": \"2024-01-03\", \"views\": 300, \"purchases\": 80},\n",
              "    {\"date\": \"2024-01-04\", \"views\": 400, \"purchases\": 100}\n",
              "  ];\n",
              "\n",
              "  var parseDate = d3.timeParse(\"%Y-%m-%d\");\n",
              "\n",
              "  data.forEach(function(d) {\n",
              "    d.date = parseDate(d.date);\n",
              "  });\n",
              "\n",
              "  var width = 500, height = 300;\n",
              "\n",
              "  var svg = d3.select(\"#time_chart\").append(\"svg\")\n",
              "      .attr(\"width\", width)\n",
              "      .attr(\"height\", height);\n",
              "\n",
              "  var x = d3.scaleTime().range([0, width]),\n",
              "      y = d3.scaleLinear().range([height, 0]);\n",
              "\n",
              "  var line = d3.line()\n",
              "      .x(function(d) { return x(d.date); })\n",
              "      .y(function(d) { return y(d.views); });\n",
              "\n",
              "  var line2 = d3.line()\n",
              "      .x(function(d) { return x(d.date); })\n",
              "      .y(function(d) { return y(d.purchases); });\n",
              "\n",
              "  x.domain(d3.extent(data, function(d) { return d.date; }));\n",
              "  y.domain([0, d3.max(data, function(d) { return d.views; })]);\n",
              "\n",
              "  svg.append(\"path\")\n",
              "      .data([data])\n",
              "      .attr(\"class\", \"line\")\n",
              "      .attr(\"d\", line)\n",
              "      .style(\"stroke\", \"steelblue\");\n",
              "\n",
              "  svg.append(\"path\")\n",
              "      .data([data])\n",
              "      .attr(\"class\", \"line\")\n",
              "      .attr(\"d\", line2)\n",
              "      .style(\"stroke\", \"green\");\n",
              "\n",
              "  svg.append(\"g\")\n",
              "      .attr(\"transform\", \"translate(0,\" + height + \")\")\n",
              "      .call(d3.axisBottom(x));\n",
              "\n",
              "  svg.append(\"g\")\n",
              "      .call(d3.axisLeft(y));\n",
              "</script>\n"
            ]
          },
          "metadata": {}
        }
      ]
    },
    {
      "cell_type": "markdown",
      "source": [
        "Time-Series Data: This line chart compares views and purchases over time.\n",
        "\n",
        "Interactive Scaling: You can add zoom and pan functionality with D3.js to allow users to focus on specific time ranges."
      ],
      "metadata": {
        "id": "ajB43ZswGAcX"
      }
    },
    {
      "cell_type": "markdown",
      "source": [
        "## Step 5: Interactive Visualization with Filters"
      ],
      "metadata": {
        "id": "LL5k13XgG51x"
      }
    },
    {
      "cell_type": "markdown",
      "source": [
        "It allows users to dynamically manipulate the data they see on a chart. Filters enable users to focus on specific aspects of the data by changing parameters such as event types, product categories, time ranges, or other attributes.\n",
        "\n",
        "Key Components of Filterable Visualization:\n",
        "1. Dropdown Menu for Filters: This enables users to select different filters (like event type).\n",
        "\n",
        "2. Dynamic Data Update: The chart updates based on the selected filter, redrawing itself with the filtered data.\n",
        "\n",
        "3. Transitions: To make the update smooth, D3.js transitions will make the data change more visually appealing."
      ],
      "metadata": {
        "id": "6ELPXDNyG-fy"
      }
    },
    {
      "cell_type": "markdown",
      "source": [
        "## Interactive Bar Chart with Event Type Filter\n",
        "\n",
        "### Step 1: Prepare HTML Structure for the Filter and Chart\n",
        "We create a dropdown menu that filters product events and a bar chart that updates accordingly."
      ],
      "metadata": {
        "id": "QjzS6X03HcnH"
      }
    },
    {
      "cell_type": "code",
      "source": [
        "from IPython.core.display import display, HTML\n",
        "\n",
        "interactive_chart_html = \"\"\"\n",
        "<div>\n",
        "  <label for=\"eventType\">Filter by Event Type: </label>\n",
        "  <select id=\"eventType\" onchange=\"updateChart(this.value)\">\n",
        "    <option value=\"view\">View</option>\n",
        "    <option value=\"purchase\">Purchase</option>\n",
        "    <option value=\"cart\">Cart</option>\n",
        "  </select>\n",
        "</div>\n",
        "<div id=\"chart\"></div>\n",
        "\n",
        "<script src=\"https://d3js.org/d3.v5.min.js\"></script>\n",
        "<script>\n",
        "  // Data for three different event types\n",
        "  var data = {\n",
        "    \"view\": [30, 86, 168, 281, 303, 365],\n",
        "    \"purchase\": [15, 40, 80, 120, 160, 200],\n",
        "    \"cart\": [5, 30, 55, 100, 130, 170]\n",
        "  };\n",
        "\n",
        "  // Set dimensions of the chart\n",
        "  var width = 500,\n",
        "      height = 300,\n",
        "      barHeight = 20;\n",
        "\n",
        "  // Create an SVG element for the chart\n",
        "  var svg = d3.select(\"#chart\").append(\"svg\")\n",
        "      .attr(\"width\", width)\n",
        "      .attr(\"height\", height);\n",
        "\n",
        "  // Function to update the chart based on the selected event type\n",
        "  function updateChart(eventType) {\n",
        "    var selectedData = data[eventType];\n",
        "\n",
        "    // Remove existing bars if any\n",
        "    svg.selectAll(\"*\").remove();\n",
        "\n",
        "    // Update the chart with the new data\n",
        "    var bars = svg.selectAll(\"rect\")\n",
        "      .data(selectedData)\n",
        "      .enter().append(\"rect\")\n",
        "      .attr(\"x\", 0)\n",
        "      .attr(\"y\", function(d, i) { return i * barHeight; })\n",
        "      .attr(\"width\", 0)  // Start the width at 0 for transition effect\n",
        "      .attr(\"height\", barHeight - 1)\n",
        "      .transition()\n",
        "      .duration(750)\n",
        "      .attr(\"width\", function(d) { return d; });\n",
        "\n",
        "    // Add text labels for each bar\n",
        "    svg.selectAll(\"text\")\n",
        "      .data(selectedData)\n",
        "      .enter().append(\"text\")\n",
        "      .attr(\"x\", function(d) { return d - 3; })\n",
        "      .attr(\"y\", function(d, i) { return i * barHeight + barHeight / 2; })\n",
        "      .attr(\"dy\", \".35em\")\n",
        "      .text(function(d) { return d; });\n",
        "  }\n",
        "\n",
        "  // Initialize the chart with 'view' data\n",
        "  updateChart('view');\n",
        "</script>\n",
        "\"\"\"\n",
        "\n",
        "display(HTML(interactive_chart_html))\n"
      ],
      "metadata": {
        "colab": {
          "base_uri": "https://localhost:8080/",
          "height": 340
        },
        "id": "wepmYB9jHnC5",
        "outputId": "5c7991c0-f37e-4755-af0c-a24c72e77a38"
      },
      "execution_count": 26,
      "outputs": [
        {
          "output_type": "display_data",
          "data": {
            "text/plain": [
              "<IPython.core.display.HTML object>"
            ],
            "text/html": [
              "\n",
              "<div>\n",
              "  <label for=\"eventType\">Filter by Event Type: </label>\n",
              "  <select id=\"eventType\" onchange=\"updateChart(this.value)\">\n",
              "    <option value=\"view\">View</option>\n",
              "    <option value=\"purchase\">Purchase</option>\n",
              "    <option value=\"cart\">Cart</option>\n",
              "  </select>\n",
              "</div>\n",
              "<div id=\"chart\"></div>\n",
              "\n",
              "<script src=\"https://d3js.org/d3.v5.min.js\"></script>\n",
              "<script>\n",
              "  // Data for three different event types\n",
              "  var data = {\n",
              "    \"view\": [30, 86, 168, 281, 303, 365],\n",
              "    \"purchase\": [15, 40, 80, 120, 160, 200],\n",
              "    \"cart\": [5, 30, 55, 100, 130, 170]\n",
              "  };\n",
              "\n",
              "  // Set dimensions of the chart\n",
              "  var width = 500,\n",
              "      height = 300,\n",
              "      barHeight = 20;\n",
              "\n",
              "  // Create an SVG element for the chart\n",
              "  var svg = d3.select(\"#chart\").append(\"svg\")\n",
              "      .attr(\"width\", width)\n",
              "      .attr(\"height\", height);\n",
              "\n",
              "  // Function to update the chart based on the selected event type\n",
              "  function updateChart(eventType) {\n",
              "    var selectedData = data[eventType];\n",
              "\n",
              "    // Remove existing bars if any\n",
              "    svg.selectAll(\"*\").remove();\n",
              "\n",
              "    // Update the chart with the new data\n",
              "    var bars = svg.selectAll(\"rect\")\n",
              "      .data(selectedData)\n",
              "      .enter().append(\"rect\")\n",
              "      .attr(\"x\", 0)\n",
              "      .attr(\"y\", function(d, i) { return i * barHeight; })\n",
              "      .attr(\"width\", 0)  // Start the width at 0 for transition effect\n",
              "      .attr(\"height\", barHeight - 1)\n",
              "      .transition()\n",
              "      .duration(750)\n",
              "      .attr(\"width\", function(d) { return d; });\n",
              "\n",
              "    // Add text labels for each bar\n",
              "    svg.selectAll(\"text\")\n",
              "      .data(selectedData)\n",
              "      .enter().append(\"text\")\n",
              "      .attr(\"x\", function(d) { return d - 3; })\n",
              "      .attr(\"y\", function(d, i) { return i * barHeight + barHeight / 2; })\n",
              "      .attr(\"dy\", \".35em\")\n",
              "      .text(function(d) { return d; });\n",
              "  }\n",
              "\n",
              "  // Initialize the chart with 'view' data\n",
              "  updateChart('view');\n",
              "</script>\n"
            ]
          },
          "metadata": {}
        }
      ]
    },
    {
      "cell_type": "markdown",
      "source": [
        "### Step 2 : Customization for Your Dataset\n",
        "For Retailrocket Dataset, you can modify the data arrays to reflect the actual counts of events (views, purchases, carts) for different products. You can also update the eventType options to reflect different filters, such as categories, time intervals, or specific user behaviors."
      ],
      "metadata": {
        "id": "W1Z9SombHqFK"
      }
    },
    {
      "cell_type": "code",
      "source": [
        "# Group data by event type to count occurrences of each event\n",
        "event_type_data = data.groupby('event')['itemid'].count()\n",
        "\n",
        "# Convert to dictionary format for use in D3.js\n",
        "event_type_dict = event_type_data.to_dict()\n",
        "\n",
        "# Print or save the dictionary for embedding in your D3.js code\n",
        "print(event_type_dict)\n"
      ],
      "metadata": {
        "colab": {
          "base_uri": "https://localhost:8080/"
        },
        "id": "cpWNQmHFHuZQ",
        "outputId": "4ef3203a-c5e4-45ed-e394-ef3a2f26ce0b"
      },
      "execution_count": 30,
      "outputs": [
        {
          "output_type": "stream",
          "name": "stdout",
          "text": [
            "{'addtocart': 69332, 'transaction': 22457, 'view': 2664312}\n"
          ]
        }
      ]
    },
    {
      "cell_type": "markdown",
      "source": [
        "## Step 6: Conclusion\n",
        "Once all visualizations are complete, you can summarize your findings by focusing on:\n",
        "\n",
        "Customer behavior (e.g., when most purchases happen, popular products).\n",
        "Recommendations based on trends observed from visualizations."
      ],
      "metadata": {
        "id": "lISsKwqIHBVE"
      }
    }
  ]
}